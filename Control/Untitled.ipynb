{
 "cells": [
  {
   "cell_type": "code",
   "execution_count": 2,
   "id": "d7f8918f-466b-4838-b469-3790ec0ab73d",
   "metadata": {},
   "outputs": [
    {
     "name": "stderr",
     "output_type": "stream",
     "text": [
      "── \u001b[1mAttaching packages\u001b[22m ─────────────────────────────────────── tidyverse 1.3.1 ──\n",
      "\n",
      "\u001b[32m✔\u001b[39m \u001b[34mggplot2\u001b[39m 3.3.6     \u001b[32m✔\u001b[39m \u001b[34mpurrr  \u001b[39m 0.3.4\n",
      "\u001b[32m✔\u001b[39m \u001b[34mtibble \u001b[39m 3.1.6     \u001b[32m✔\u001b[39m \u001b[34mdplyr  \u001b[39m 1.0.7\n",
      "\u001b[32m✔\u001b[39m \u001b[34mtidyr  \u001b[39m 1.1.4     \u001b[32m✔\u001b[39m \u001b[34mstringr\u001b[39m 1.4.0\n",
      "\u001b[32m✔\u001b[39m \u001b[34mreadr  \u001b[39m 2.1.1     \u001b[32m✔\u001b[39m \u001b[34mforcats\u001b[39m 0.5.1\n",
      "\n",
      "── \u001b[1mConflicts\u001b[22m ────────────────────────────────────────── tidyverse_conflicts() ──\n",
      "\u001b[31m✖\u001b[39m \u001b[34mdplyr\u001b[39m::\u001b[32mfilter()\u001b[39m masks \u001b[34mstats\u001b[39m::filter()\n",
      "\u001b[31m✖\u001b[39m \u001b[34mdplyr\u001b[39m::\u001b[32mlag()\u001b[39m    masks \u001b[34mstats\u001b[39m::lag()\n",
      "\n"
     ]
    }
   ],
   "source": [
    "library('dataRetrieval')\n",
    "library('tidyverse')"
   ]
  },
  {
   "cell_type": "code",
   "execution_count": null,
   "id": "34306094-8cf2-425a-bcac-6533bd4c5a82",
   "metadata": {},
   "outputs": [],
   "source": [
    "#Determine which stations in Alaska have sub-daily temperature data available\n",
    "gages <- readNWISdata(stateCd=\"AK\", parameterCd=\"00060\", service=\"uv\") %>%\n",
    "  distinct(site_no)\n",
    "\n",
    "#Using that created list to pull all the temperature data from USGS server\n",
    "temperature_gages = vector()\n",
    "for(i in 1:nrow(gages)){\n",
    "  temp <- readNWISuv(gages[i,], parameterCd = '00060')\n",
    "  temperature_gages <- rbind(temperature_gages,temp)\n",
    "}\n",
    "\n",
    "temperature_gages = temperature_gages %>%\n",
    "  mutate(site_no = as.numeric(site_no)) %>%\n",
    "  mutate(dateTime = as.POSIXct(dateTime, format = \"%Y-%m-%d %H:%M:%S\")) %>%\n",
    "  mutate(Year = year(dateTime), Month = month(dateTime), Day = day(dateTime), \n",
    "         Hour = hour(dateTime), Minute = minute(dateTime), Second = second(dateTime)) %>%\n",
    "  mutate(wt_year = ifelse(as.numeric(Month)>=10, as.numeric(Year) + 1, as.numeric(Year)))\n",
    "\n",
    "temperature_gages = temperature_gages %>%\n",
    "  mutate(Hour = ifelse(Hour<3, 3, ifelse(Hour < 6, 6, ifelse(Hour<9, 9, ifelse(Hour<12, 12, ifelse(Hour<15, 15, ifelse(Hour<18, 18, ifelse(Hour<21, 21, ifelse(Hour<24,24))))))))) %>%\n",
    "  group_by(site_no, Year, Month, Day, Hour) %>%\n",
    "  summarise(meanQ = mean(X_00060_00000)) \n",
    "\n",
    "temperature_gages = temperature_gages %>%\n",
    "  filter(Year < 2021)\n",
    "\n",
    "write.csv(temperature_gages, file = \"/glade/u/home/dblaskey/RBM/Validation/flow_sites_3hr.csv\")"
   ]
  },
  {
   "cell_type": "code",
   "execution_count": null,
   "id": "af77e163-6edf-4b17-afa7-8ddfd9353a62",
   "metadata": {},
   "outputs": [],
   "source": []
  }
 ],
 "metadata": {
  "kernelspec": {
   "display_name": "R 4.1.2",
   "language": "R",
   "name": "r-412"
  },
  "language_info": {
   "codemirror_mode": "r",
   "file_extension": ".r",
   "mimetype": "text/x-r-source",
   "name": "R",
   "pygments_lexer": "r",
   "version": "4.1.2"
  }
 },
 "nbformat": 4,
 "nbformat_minor": 5
}
