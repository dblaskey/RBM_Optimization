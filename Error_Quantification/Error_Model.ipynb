{
 "cells": [
  {
   "cell_type": "code",
   "execution_count": 17,
   "id": "575ad9e7-beb8-4406-9953-3fbb8c877ab4",
   "metadata": {},
   "outputs": [],
   "source": [
    "import pandas as pd\n",
    "import numpy as np\n",
    "import seaborn as sns\n",
    "import matplotlib as mpl\n",
    "import matplotlib.pyplot as plt\n",
    "import sklearn\n",
    "import geopandas as gpd\n",
    "import warnings\n",
    "from sklearn.model_selection import RandomizedSearchCV"
   ]
  },
  {
   "cell_type": "markdown",
   "id": "026e6d62-42ff-493a-9154-ce4697c8beff",
   "metadata": {
    "jp-MarkdownHeadingCollapsed": true,
    "tags": []
   },
   "source": [
    "## Bulid Dataset"
   ]
  },
  {
   "cell_type": "code",
   "execution_count": 6,
   "id": "dbe76e8b-8bd0-4125-84c1-47d19a46dbe2",
   "metadata": {
    "tags": []
   },
   "outputs": [
    {
     "data": {
      "text/html": [
       "<div>\n",
       "<style scoped>\n",
       "    .dataframe tbody tr th:only-of-type {\n",
       "        vertical-align: middle;\n",
       "    }\n",
       "\n",
       "    .dataframe tbody tr th {\n",
       "        vertical-align: top;\n",
       "    }\n",
       "\n",
       "    .dataframe thead th {\n",
       "        text-align: right;\n",
       "    }\n",
       "</style>\n",
       "<table border=\"1\" class=\"dataframe\">\n",
       "  <thead>\n",
       "    <tr style=\"text-align: right;\">\n",
       "      <th></th>\n",
       "      <th>Date</th>\n",
       "      <th>sim</th>\n",
       "      <th>obs</th>\n",
       "      <th>COMID</th>\n",
       "      <th>type</th>\n",
       "      <th>DOY</th>\n",
       "    </tr>\n",
       "  </thead>\n",
       "  <tbody>\n",
       "    <tr>\n",
       "      <th>25050</th>\n",
       "      <td>6/8/18</td>\n",
       "      <td>4.76</td>\n",
       "      <td>1.9</td>\n",
       "      <td>81000092</td>\n",
       "      <td>Optimized_loc</td>\n",
       "      <td>159</td>\n",
       "    </tr>\n",
       "    <tr>\n",
       "      <th>25051</th>\n",
       "      <td>6/9/18</td>\n",
       "      <td>3.91</td>\n",
       "      <td>2.1</td>\n",
       "      <td>81000092</td>\n",
       "      <td>Optimized_loc</td>\n",
       "      <td>160</td>\n",
       "    </tr>\n",
       "    <tr>\n",
       "      <th>25052</th>\n",
       "      <td>6/10/18</td>\n",
       "      <td>3.31</td>\n",
       "      <td>1.7</td>\n",
       "      <td>81000092</td>\n",
       "      <td>Optimized_loc</td>\n",
       "      <td>161</td>\n",
       "    </tr>\n",
       "    <tr>\n",
       "      <th>25053</th>\n",
       "      <td>6/11/18</td>\n",
       "      <td>3.69</td>\n",
       "      <td>1.8</td>\n",
       "      <td>81000092</td>\n",
       "      <td>Optimized_loc</td>\n",
       "      <td>162</td>\n",
       "    </tr>\n",
       "    <tr>\n",
       "      <th>25054</th>\n",
       "      <td>6/12/18</td>\n",
       "      <td>5.02</td>\n",
       "      <td>2.2</td>\n",
       "      <td>81000092</td>\n",
       "      <td>Optimized_loc</td>\n",
       "      <td>163</td>\n",
       "    </tr>\n",
       "    <tr>\n",
       "      <th>...</th>\n",
       "      <td>...</td>\n",
       "      <td>...</td>\n",
       "      <td>...</td>\n",
       "      <td>...</td>\n",
       "      <td>...</td>\n",
       "      <td>...</td>\n",
       "    </tr>\n",
       "    <tr>\n",
       "      <th>50095</th>\n",
       "      <td>9/25/21</td>\n",
       "      <td>4.48</td>\n",
       "      <td>4.1</td>\n",
       "      <td>81034272</td>\n",
       "      <td>Optimized_loc</td>\n",
       "      <td>268</td>\n",
       "    </tr>\n",
       "    <tr>\n",
       "      <th>50096</th>\n",
       "      <td>9/26/21</td>\n",
       "      <td>4.43</td>\n",
       "      <td>3.8</td>\n",
       "      <td>81034272</td>\n",
       "      <td>Optimized_loc</td>\n",
       "      <td>269</td>\n",
       "    </tr>\n",
       "    <tr>\n",
       "      <th>50097</th>\n",
       "      <td>9/27/21</td>\n",
       "      <td>4.10</td>\n",
       "      <td>3.6</td>\n",
       "      <td>81034272</td>\n",
       "      <td>Optimized_loc</td>\n",
       "      <td>270</td>\n",
       "    </tr>\n",
       "    <tr>\n",
       "      <th>50098</th>\n",
       "      <td>9/28/21</td>\n",
       "      <td>4.19</td>\n",
       "      <td>3.6</td>\n",
       "      <td>81034272</td>\n",
       "      <td>Optimized_loc</td>\n",
       "      <td>271</td>\n",
       "    </tr>\n",
       "    <tr>\n",
       "      <th>50099</th>\n",
       "      <td>9/29/21</td>\n",
       "      <td>4.00</td>\n",
       "      <td>3.3</td>\n",
       "      <td>81034272</td>\n",
       "      <td>Optimized_loc</td>\n",
       "      <td>272</td>\n",
       "    </tr>\n",
       "  </tbody>\n",
       "</table>\n",
       "<p>25050 rows × 6 columns</p>\n",
       "</div>"
      ],
      "text/plain": [
       "          Date   sim  obs     COMID           type  DOY\n",
       "25050   6/8/18  4.76  1.9  81000092  Optimized_loc  159\n",
       "25051   6/9/18  3.91  2.1  81000092  Optimized_loc  160\n",
       "25052  6/10/18  3.31  1.7  81000092  Optimized_loc  161\n",
       "25053  6/11/18  3.69  1.8  81000092  Optimized_loc  162\n",
       "25054  6/12/18  5.02  2.2  81000092  Optimized_loc  163\n",
       "...        ...   ...  ...       ...            ...  ...\n",
       "50095  9/25/21  4.48  4.1  81034272  Optimized_loc  268\n",
       "50096  9/26/21  4.43  3.8  81034272  Optimized_loc  269\n",
       "50097  9/27/21  4.10  3.6  81034272  Optimized_loc  270\n",
       "50098  9/28/21  4.19  3.6  81034272  Optimized_loc  271\n",
       "50099  9/29/21  4.00  3.3  81034272  Optimized_loc  272\n",
       "\n",
       "[25050 rows x 6 columns]"
      ]
     },
     "execution_count": 6,
     "metadata": {},
     "output_type": "execute_result"
    }
   ],
   "source": [
    "data = pd.read_csv('/glade/u/home/dblaskey/RBM/Error_Quantification/error.csv')\n",
    "data = data[data['type'] == \"Optimized_loc\"]\n",
    "data"
   ]
  },
  {
   "cell_type": "code",
   "execution_count": 8,
   "id": "0bd72784-a31a-4eff-8720-7c8ab91cebd1",
   "metadata": {},
   "outputs": [],
   "source": [
    "#### Begin Code #####\n",
    "df_sites = pd.read_csv('/glade/u/home/dblaskey/RBM/Validation/Val_Basins.csv', index_col=0)\n",
    "outlets = np.unique(df_sites.outlet_comid.values)"
   ]
  },
  {
   "cell_type": "code",
   "execution_count": 44,
   "id": "a764873f-a3b1-45fe-9ae1-37120fee47f3",
   "metadata": {},
   "outputs": [],
   "source": [
    "years = range(2017,2022)\n",
    "start_date = '2017-01-01'\n",
    "end_date = '2021-09-29'\n",
    "time_series = pd.date_range(start_date, end_date)"
   ]
  },
  {
   "cell_type": "code",
   "execution_count": 58,
   "id": "e15bfa27-9284-45e8-a35c-1e34724d63db",
   "metadata": {},
   "outputs": [],
   "source": [
    "df_list = []\n",
    "\n",
    "with warnings.catch_warnings(record=True):\n",
    "\n",
    "    for outlet in outlets:\n",
    "        Ordered_reaches_final = pd.read_csv(\"/glade/scratch/dblaskey/RBM/Input/%s_network.csv\"%outlet)\n",
    "        comids = df_sites[df_sites['outlet_comid'] == outlet]['COMID'].values\n",
    "        site_nos = df_sites[df_sites['outlet_comid'] == outlet].index.values\n",
    "\n",
    "        for i,comid in enumerate(comids):\n",
    "            site_no = site_nos[i]\n",
    "            cell = Ordered_reaches_final[Ordered_reaches_final['hru'] == comid].node.values[-1]\n",
    "\n",
    "            Water = []\n",
    "            for year in years:\n",
    "                test = pd.read_csv(\"/glade/scratch/dblaskey/RBM/RBM_Input/%s_energy_%s\"%(outlet,year), sep=\" \", header = None,\n",
    "                names=[\"cell\", \"Tair\", \"vp\", \"SW\", \"LW\", \"Density\",\"P\",\"Wind\"])\n",
    "                test_id = test[test[\"cell\"] == cell]\n",
    "                test_id['day'] = range(len(test_id))\n",
    "                test_id['COMID'] = comid\n",
    "\n",
    "                Q_df = pd.read_csv(\"/glade/scratch/dblaskey/RBM/RBM_Input/Production/%s_flow_%s\"%(outlet,year), sep=\" \", header = None,\n",
    "                names=[\"day\", \"cell\", \"Q_in\", \"Q_out\", \"Q_diff\", \"depth\", \"width\", \"Velocity\", \"Q_local\"])\n",
    "                Q_df = Q_df[Q_df[\"cell\"] == cell]\n",
    "\n",
    "                Water.append(test_id.merge(Q_df))\n",
    "\n",
    "            water_data = pd.concat(Water)\n",
    "\n",
    "            water_data['Date'] = time_series\n",
    "            water_data = water_data.set_index('Date')\n",
    "            df_concat = water_data.loc['2017-10-01':'2021-09-30']\n",
    "            df_concat = df_concat[df_concat.index.month.isin([5,6,7,8,9])]\n",
    "            df_concat = df_concat.reset_index()\n",
    "\n",
    "            df_list.append(df_concat)                     \n",
    "    warnings.warn(\"should not appear\")\n",
    "    \n",
    "input_data = pd.concat(df_list)"
   ]
  },
  {
   "cell_type": "markdown",
   "id": "59d1c6c3-12b4-4e89-8758-3dea4f0e3d10",
   "metadata": {},
   "source": [
    "## Load Dataset"
   ]
  },
  {
   "cell_type": "code",
   "execution_count": 4,
   "id": "11ff699c-08dc-403e-954c-0adabaff05c4",
   "metadata": {},
   "outputs": [],
   "source": [
    "final_data = pd.read_csv('/glade/u/home/dblaskey/RBM/Error_Quantification/error_final.csv', index_col=0)\n",
    "\n",
    "#data['Date'] = pd.to_datetime(data['Date'])\n",
    "#final_data = data.merge(input_data)\n",
    "\n",
    "final_data['error'] = final_data['sim'] - final_data['obs']\n",
    "\n",
    "final_df = final_data.drop(columns=['Density', 'Q_out', 'Q_diff', 'Q_local', 'type', 'Date', 'sim', 'obs', 'COMID', 'day'])"
   ]
  },
  {
   "cell_type": "code",
   "execution_count": 5,
   "id": "a81e1914-b519-47fb-aec8-81d860581878",
   "metadata": {},
   "outputs": [
    {
     "data": {
      "text/html": [
       "<div>\n",
       "<style scoped>\n",
       "    .dataframe tbody tr th:only-of-type {\n",
       "        vertical-align: middle;\n",
       "    }\n",
       "\n",
       "    .dataframe tbody tr th {\n",
       "        vertical-align: top;\n",
       "    }\n",
       "\n",
       "    .dataframe thead th {\n",
       "        text-align: right;\n",
       "    }\n",
       "</style>\n",
       "<table border=\"1\" class=\"dataframe\">\n",
       "  <thead>\n",
       "    <tr style=\"text-align: right;\">\n",
       "      <th></th>\n",
       "      <th>DOY</th>\n",
       "      <th>cell</th>\n",
       "      <th>Tair</th>\n",
       "      <th>vp</th>\n",
       "      <th>SW</th>\n",
       "      <th>LW</th>\n",
       "      <th>P</th>\n",
       "      <th>Wind</th>\n",
       "      <th>Q_in</th>\n",
       "      <th>depth</th>\n",
       "      <th>width</th>\n",
       "      <th>Velocity</th>\n",
       "      <th>error</th>\n",
       "    </tr>\n",
       "  </thead>\n",
       "  <tbody>\n",
       "    <tr>\n",
       "      <th>0</th>\n",
       "      <td>159</td>\n",
       "      <td>338</td>\n",
       "      <td>-4.5</td>\n",
       "      <td>4.3</td>\n",
       "      <td>0.0472</td>\n",
       "      <td>0.0684</td>\n",
       "      <td>1013.6</td>\n",
       "      <td>4.5</td>\n",
       "      <td>10660.0</td>\n",
       "      <td>7.5</td>\n",
       "      <td>883.7</td>\n",
       "      <td>2.76</td>\n",
       "      <td>2.86</td>\n",
       "    </tr>\n",
       "    <tr>\n",
       "      <th>1</th>\n",
       "      <td>160</td>\n",
       "      <td>338</td>\n",
       "      <td>-0.8</td>\n",
       "      <td>5.7</td>\n",
       "      <td>0.0295</td>\n",
       "      <td>0.0730</td>\n",
       "      <td>1004.4</td>\n",
       "      <td>8.8</td>\n",
       "      <td>8766.6</td>\n",
       "      <td>7.5</td>\n",
       "      <td>883.7</td>\n",
       "      <td>2.76</td>\n",
       "      <td>1.81</td>\n",
       "    </tr>\n",
       "    <tr>\n",
       "      <th>2</th>\n",
       "      <td>161</td>\n",
       "      <td>338</td>\n",
       "      <td>-1.7</td>\n",
       "      <td>5.4</td>\n",
       "      <td>0.0382</td>\n",
       "      <td>0.0707</td>\n",
       "      <td>1011.7</td>\n",
       "      <td>5.2</td>\n",
       "      <td>6692.4</td>\n",
       "      <td>7.5</td>\n",
       "      <td>883.7</td>\n",
       "      <td>2.76</td>\n",
       "      <td>1.61</td>\n",
       "    </tr>\n",
       "    <tr>\n",
       "      <th>3</th>\n",
       "      <td>162</td>\n",
       "      <td>338</td>\n",
       "      <td>-1.2</td>\n",
       "      <td>5.6</td>\n",
       "      <td>0.0595</td>\n",
       "      <td>0.0695</td>\n",
       "      <td>1010.1</td>\n",
       "      <td>3.5</td>\n",
       "      <td>4886.9</td>\n",
       "      <td>7.5</td>\n",
       "      <td>883.7</td>\n",
       "      <td>2.76</td>\n",
       "      <td>1.89</td>\n",
       "    </tr>\n",
       "    <tr>\n",
       "      <th>4</th>\n",
       "      <td>163</td>\n",
       "      <td>338</td>\n",
       "      <td>-2.5</td>\n",
       "      <td>5.1</td>\n",
       "      <td>0.0330</td>\n",
       "      <td>0.0707</td>\n",
       "      <td>1007.5</td>\n",
       "      <td>2.5</td>\n",
       "      <td>3559.6</td>\n",
       "      <td>7.5</td>\n",
       "      <td>883.7</td>\n",
       "      <td>2.76</td>\n",
       "      <td>2.82</td>\n",
       "    </tr>\n",
       "    <tr>\n",
       "      <th>...</th>\n",
       "      <td>...</td>\n",
       "      <td>...</td>\n",
       "      <td>...</td>\n",
       "      <td>...</td>\n",
       "      <td>...</td>\n",
       "      <td>...</td>\n",
       "      <td>...</td>\n",
       "      <td>...</td>\n",
       "      <td>...</td>\n",
       "      <td>...</td>\n",
       "      <td>...</td>\n",
       "      <td>...</td>\n",
       "      <td>...</td>\n",
       "    </tr>\n",
       "    <tr>\n",
       "      <th>25045</th>\n",
       "      <td>268</td>\n",
       "      <td>495</td>\n",
       "      <td>1.8</td>\n",
       "      <td>4.7</td>\n",
       "      <td>0.0356</td>\n",
       "      <td>0.0553</td>\n",
       "      <td>982.5</td>\n",
       "      <td>1.9</td>\n",
       "      <td>236.5</td>\n",
       "      <td>12.6</td>\n",
       "      <td>1270.5</td>\n",
       "      <td>2.52</td>\n",
       "      <td>0.38</td>\n",
       "    </tr>\n",
       "    <tr>\n",
       "      <th>25046</th>\n",
       "      <td>269</td>\n",
       "      <td>495</td>\n",
       "      <td>1.9</td>\n",
       "      <td>4.8</td>\n",
       "      <td>0.0362</td>\n",
       "      <td>0.0536</td>\n",
       "      <td>982.6</td>\n",
       "      <td>4.0</td>\n",
       "      <td>209.9</td>\n",
       "      <td>12.6</td>\n",
       "      <td>1270.5</td>\n",
       "      <td>2.52</td>\n",
       "      <td>0.63</td>\n",
       "    </tr>\n",
       "    <tr>\n",
       "      <th>25047</th>\n",
       "      <td>270</td>\n",
       "      <td>495</td>\n",
       "      <td>2.6</td>\n",
       "      <td>5.3</td>\n",
       "      <td>0.0327</td>\n",
       "      <td>0.0580</td>\n",
       "      <td>973.2</td>\n",
       "      <td>2.0</td>\n",
       "      <td>189.3</td>\n",
       "      <td>12.6</td>\n",
       "      <td>1270.5</td>\n",
       "      <td>2.52</td>\n",
       "      <td>0.50</td>\n",
       "    </tr>\n",
       "    <tr>\n",
       "      <th>25048</th>\n",
       "      <td>271</td>\n",
       "      <td>495</td>\n",
       "      <td>2.5</td>\n",
       "      <td>5.4</td>\n",
       "      <td>0.0344</td>\n",
       "      <td>0.0548</td>\n",
       "      <td>976.2</td>\n",
       "      <td>3.6</td>\n",
       "      <td>176.7</td>\n",
       "      <td>12.6</td>\n",
       "      <td>1270.5</td>\n",
       "      <td>2.52</td>\n",
       "      <td>0.59</td>\n",
       "    </tr>\n",
       "    <tr>\n",
       "      <th>25049</th>\n",
       "      <td>272</td>\n",
       "      <td>495</td>\n",
       "      <td>1.3</td>\n",
       "      <td>5.1</td>\n",
       "      <td>0.0290</td>\n",
       "      <td>0.0579</td>\n",
       "      <td>968.2</td>\n",
       "      <td>6.5</td>\n",
       "      <td>164.5</td>\n",
       "      <td>12.6</td>\n",
       "      <td>1270.5</td>\n",
       "      <td>2.52</td>\n",
       "      <td>0.70</td>\n",
       "    </tr>\n",
       "  </tbody>\n",
       "</table>\n",
       "<p>25050 rows × 13 columns</p>\n",
       "</div>"
      ],
      "text/plain": [
       "       DOY  cell  Tair   vp      SW      LW       P  Wind     Q_in  depth  \\\n",
       "0      159   338  -4.5  4.3  0.0472  0.0684  1013.6   4.5  10660.0    7.5   \n",
       "1      160   338  -0.8  5.7  0.0295  0.0730  1004.4   8.8   8766.6    7.5   \n",
       "2      161   338  -1.7  5.4  0.0382  0.0707  1011.7   5.2   6692.4    7.5   \n",
       "3      162   338  -1.2  5.6  0.0595  0.0695  1010.1   3.5   4886.9    7.5   \n",
       "4      163   338  -2.5  5.1  0.0330  0.0707  1007.5   2.5   3559.6    7.5   \n",
       "...    ...   ...   ...  ...     ...     ...     ...   ...      ...    ...   \n",
       "25045  268   495   1.8  4.7  0.0356  0.0553   982.5   1.9    236.5   12.6   \n",
       "25046  269   495   1.9  4.8  0.0362  0.0536   982.6   4.0    209.9   12.6   \n",
       "25047  270   495   2.6  5.3  0.0327  0.0580   973.2   2.0    189.3   12.6   \n",
       "25048  271   495   2.5  5.4  0.0344  0.0548   976.2   3.6    176.7   12.6   \n",
       "25049  272   495   1.3  5.1  0.0290  0.0579   968.2   6.5    164.5   12.6   \n",
       "\n",
       "        width  Velocity  error  \n",
       "0       883.7      2.76   2.86  \n",
       "1       883.7      2.76   1.81  \n",
       "2       883.7      2.76   1.61  \n",
       "3       883.7      2.76   1.89  \n",
       "4       883.7      2.76   2.82  \n",
       "...       ...       ...    ...  \n",
       "25045  1270.5      2.52   0.38  \n",
       "25046  1270.5      2.52   0.63  \n",
       "25047  1270.5      2.52   0.50  \n",
       "25048  1270.5      2.52   0.59  \n",
       "25049  1270.5      2.52   0.70  \n",
       "\n",
       "[25050 rows x 13 columns]"
      ]
     },
     "execution_count": 5,
     "metadata": {},
     "output_type": "execute_result"
    }
   ],
   "source": [
    "final_df"
   ]
  },
  {
   "cell_type": "code",
   "execution_count": 6,
   "id": "4fa65d3c-c753-41a6-89a3-ce50ade5dd5c",
   "metadata": {},
   "outputs": [
    {
     "data": {
      "text/html": [
       "<div>\n",
       "<style scoped>\n",
       "    .dataframe tbody tr th:only-of-type {\n",
       "        vertical-align: middle;\n",
       "    }\n",
       "\n",
       "    .dataframe tbody tr th {\n",
       "        vertical-align: top;\n",
       "    }\n",
       "\n",
       "    .dataframe thead th {\n",
       "        text-align: right;\n",
       "    }\n",
       "</style>\n",
       "<table border=\"1\" class=\"dataframe\">\n",
       "  <thead>\n",
       "    <tr style=\"text-align: right;\">\n",
       "      <th></th>\n",
       "      <th>count</th>\n",
       "      <th>mean</th>\n",
       "      <th>std</th>\n",
       "      <th>min</th>\n",
       "      <th>25%</th>\n",
       "      <th>50%</th>\n",
       "      <th>75%</th>\n",
       "      <th>max</th>\n",
       "    </tr>\n",
       "  </thead>\n",
       "  <tbody>\n",
       "    <tr>\n",
       "      <th>DOY</th>\n",
       "      <td>25050.0</td>\n",
       "      <td>199.229621</td>\n",
       "      <td>43.327438</td>\n",
       "      <td>121.0000</td>\n",
       "      <td>162.0000</td>\n",
       "      <td>200.0000</td>\n",
       "      <td>237.0000</td>\n",
       "      <td>274.0000</td>\n",
       "    </tr>\n",
       "    <tr>\n",
       "      <th>cell</th>\n",
       "      <td>25050.0</td>\n",
       "      <td>12320.008982</td>\n",
       "      <td>10902.658222</td>\n",
       "      <td>145.0000</td>\n",
       "      <td>338.0000</td>\n",
       "      <td>11445.0000</td>\n",
       "      <td>20287.0000</td>\n",
       "      <td>27310.0000</td>\n",
       "    </tr>\n",
       "    <tr>\n",
       "      <th>Tair</th>\n",
       "      <td>25050.0</td>\n",
       "      <td>10.029190</td>\n",
       "      <td>5.015207</td>\n",
       "      <td>-6.6000</td>\n",
       "      <td>6.9000</td>\n",
       "      <td>10.1000</td>\n",
       "      <td>13.2000</td>\n",
       "      <td>26.9000</td>\n",
       "    </tr>\n",
       "    <tr>\n",
       "      <th>vp</th>\n",
       "      <td>25050.0</td>\n",
       "      <td>9.191373</td>\n",
       "      <td>2.579374</td>\n",
       "      <td>2.6000</td>\n",
       "      <td>7.3000</td>\n",
       "      <td>9.1000</td>\n",
       "      <td>10.9000</td>\n",
       "      <td>22.7000</td>\n",
       "    </tr>\n",
       "    <tr>\n",
       "      <th>SW</th>\n",
       "      <td>25050.0</td>\n",
       "      <td>0.045431</td>\n",
       "      <td>0.022733</td>\n",
       "      <td>0.0004</td>\n",
       "      <td>0.0276</td>\n",
       "      <td>0.0469</td>\n",
       "      <td>0.0647</td>\n",
       "      <td>0.0913</td>\n",
       "    </tr>\n",
       "    <tr>\n",
       "      <th>LW</th>\n",
       "      <td>25050.0</td>\n",
       "      <td>0.072837</td>\n",
       "      <td>0.007299</td>\n",
       "      <td>0.0459</td>\n",
       "      <td>0.0681</td>\n",
       "      <td>0.0730</td>\n",
       "      <td>0.0782</td>\n",
       "      <td>0.0936</td>\n",
       "    </tr>\n",
       "    <tr>\n",
       "      <th>P</th>\n",
       "      <td>25050.0</td>\n",
       "      <td>977.944587</td>\n",
       "      <td>26.063308</td>\n",
       "      <td>875.3000</td>\n",
       "      <td>964.5000</td>\n",
       "      <td>983.4000</td>\n",
       "      <td>995.8000</td>\n",
       "      <td>1033.4000</td>\n",
       "    </tr>\n",
       "    <tr>\n",
       "      <th>Wind</th>\n",
       "      <td>25050.0</td>\n",
       "      <td>2.991134</td>\n",
       "      <td>1.249218</td>\n",
       "      <td>0.8000</td>\n",
       "      <td>2.1000</td>\n",
       "      <td>2.7000</td>\n",
       "      <td>3.6000</td>\n",
       "      <td>12.2000</td>\n",
       "    </tr>\n",
       "    <tr>\n",
       "      <th>Q_in</th>\n",
       "      <td>25050.0</td>\n",
       "      <td>2170.533218</td>\n",
       "      <td>4000.071360</td>\n",
       "      <td>5.0000</td>\n",
       "      <td>5.0000</td>\n",
       "      <td>5.0000</td>\n",
       "      <td>2609.8000</td>\n",
       "      <td>30132.3000</td>\n",
       "    </tr>\n",
       "    <tr>\n",
       "      <th>depth</th>\n",
       "      <td>25050.0</td>\n",
       "      <td>13.262407</td>\n",
       "      <td>2.838754</td>\n",
       "      <td>7.5000</td>\n",
       "      <td>12.6000</td>\n",
       "      <td>12.6000</td>\n",
       "      <td>12.6000</td>\n",
       "      <td>28.0000</td>\n",
       "    </tr>\n",
       "    <tr>\n",
       "      <th>width</th>\n",
       "      <td>25050.0</td>\n",
       "      <td>1104.173373</td>\n",
       "      <td>466.101346</td>\n",
       "      <td>599.7000</td>\n",
       "      <td>599.7000</td>\n",
       "      <td>1270.5000</td>\n",
       "      <td>1270.5000</td>\n",
       "      <td>4023.0000</td>\n",
       "    </tr>\n",
       "    <tr>\n",
       "      <th>Velocity</th>\n",
       "      <td>25050.0</td>\n",
       "      <td>2.252125</td>\n",
       "      <td>0.419144</td>\n",
       "      <td>1.6400</td>\n",
       "      <td>1.6400</td>\n",
       "      <td>2.5200</td>\n",
       "      <td>2.5200</td>\n",
       "      <td>2.8400</td>\n",
       "    </tr>\n",
       "    <tr>\n",
       "      <th>error</th>\n",
       "      <td>25050.0</td>\n",
       "      <td>0.512283</td>\n",
       "      <td>2.641571</td>\n",
       "      <td>-7.9800</td>\n",
       "      <td>-1.1300</td>\n",
       "      <td>0.6200</td>\n",
       "      <td>2.5900</td>\n",
       "      <td>8.8300</td>\n",
       "    </tr>\n",
       "  </tbody>\n",
       "</table>\n",
       "</div>"
      ],
      "text/plain": [
       "            count          mean           std       min       25%         50%  \\\n",
       "DOY       25050.0    199.229621     43.327438  121.0000  162.0000    200.0000   \n",
       "cell      25050.0  12320.008982  10902.658222  145.0000  338.0000  11445.0000   \n",
       "Tair      25050.0     10.029190      5.015207   -6.6000    6.9000     10.1000   \n",
       "vp        25050.0      9.191373      2.579374    2.6000    7.3000      9.1000   \n",
       "SW        25050.0      0.045431      0.022733    0.0004    0.0276      0.0469   \n",
       "LW        25050.0      0.072837      0.007299    0.0459    0.0681      0.0730   \n",
       "P         25050.0    977.944587     26.063308  875.3000  964.5000    983.4000   \n",
       "Wind      25050.0      2.991134      1.249218    0.8000    2.1000      2.7000   \n",
       "Q_in      25050.0   2170.533218   4000.071360    5.0000    5.0000      5.0000   \n",
       "depth     25050.0     13.262407      2.838754    7.5000   12.6000     12.6000   \n",
       "width     25050.0   1104.173373    466.101346  599.7000  599.7000   1270.5000   \n",
       "Velocity  25050.0      2.252125      0.419144    1.6400    1.6400      2.5200   \n",
       "error     25050.0      0.512283      2.641571   -7.9800   -1.1300      0.6200   \n",
       "\n",
       "                 75%         max  \n",
       "DOY         237.0000    274.0000  \n",
       "cell      20287.0000  27310.0000  \n",
       "Tair         13.2000     26.9000  \n",
       "vp           10.9000     22.7000  \n",
       "SW            0.0647      0.0913  \n",
       "LW            0.0782      0.0936  \n",
       "P           995.8000   1033.4000  \n",
       "Wind          3.6000     12.2000  \n",
       "Q_in       2609.8000  30132.3000  \n",
       "depth        12.6000     28.0000  \n",
       "width      1270.5000   4023.0000  \n",
       "Velocity      2.5200      2.8400  \n",
       "error         2.5900      8.8300  "
      ]
     },
     "execution_count": 6,
     "metadata": {},
     "output_type": "execute_result"
    }
   ],
   "source": [
    "final_df.describe().T"
   ]
  },
  {
   "cell_type": "code",
   "execution_count": 7,
   "id": "7e7fc9a3-7717-4be6-bdc9-d8ecf75521f5",
   "metadata": {},
   "outputs": [
    {
     "data": {
      "image/png": "[encoded data removed]",
      "text/plain": [
       "<Figure size 720x720 with 2 Axes>"
      ]
     },
     "metadata": {
      "needs_background": "light"
     },
     "output_type": "display_data"
    }
   ],
   "source": [
    "# Plotting the pearson correlation matrix of the features + traget\n",
    "#Mapping commands\n",
    "colormap = plt.cm.RdBu\n",
    "plt.figure(figsize=(10,10))\n",
    "plt.title('Pearson Correlation of Features', y=1.05, size=15)\n",
    "sns.heatmap(final_df.corr(),linewidths=0.1,vmax=1.0, square=True, cmap=colormap, linecolor='white', annot=False)\n",
    "plt.show()"
   ]
  },
  {
   "cell_type": "code",
   "execution_count": 8,
   "id": "e3ee2a99-5288-4088-8f94-56fff6c7deea",
   "metadata": {},
   "outputs": [],
   "source": [
    "X = final_df.drop(columns=['error'])\n",
    "Y = final_df['error']\n",
    "\n",
    "from sklearn.model_selection import train_test_split\n",
    "X_train, X_test, y_train, y_test = train_test_split(X, Y, test_size=0.20, random_state=42)"
   ]
  },
  {
   "cell_type": "code",
   "execution_count": 9,
   "id": "244d83ea-f8c7-487c-8d9f-e45dc988d674",
   "metadata": {},
   "outputs": [],
   "source": [
    "# Scaling the features using StandardScaler\n",
    "from sklearn.preprocessing import StandardScaler\n",
    "scaler = StandardScaler()\n",
    "X_train_std = scaler.fit_transform(X_train)\n",
    "X_test_std = scaler.transform(X_test)"
   ]
  },
  {
   "cell_type": "code",
   "execution_count": 10,
   "id": "7d917780-9ea6-427b-83ec-c786a2efba16",
   "metadata": {},
   "outputs": [],
   "source": [
    "X_train = X_train_std\n",
    "X_test = X_test_std"
   ]
  },
  {
   "cell_type": "markdown",
   "id": "5736cf9e-5079-445e-b0f4-4513565b6787",
   "metadata": {
    "tags": []
   },
   "source": [
    "## Linear"
   ]
  },
  {
   "cell_type": "code",
   "execution_count": 11,
   "id": "aecde018-55f1-4a2c-a414-c44f76c2e3ec",
   "metadata": {},
   "outputs": [
    {
     "data": {
      "text/plain": [
       "LinearRegression()"
      ]
     },
     "execution_count": 11,
     "metadata": {},
     "output_type": "execute_result"
    }
   ],
   "source": [
    "from sklearn.linear_model import LinearRegression\n",
    "from sklearn.metrics import mean_squared_error\n",
    "#Instantiate the model:\n",
    "linear_model= LinearRegression()\n",
    "#train the model using training data\n",
    "linear_model.fit(X_train, y_train)"
   ]
  },
  {
   "cell_type": "code",
   "execution_count": 12,
   "id": "7597a47e-872f-4d78-b381-76f0dc820089",
   "metadata": {},
   "outputs": [
    {
     "name": "stdout",
     "output_type": "stream",
     "text": [
      "Training R2 score is 0.37\n"
     ]
    }
   ],
   "source": [
    "#Remember, in regression, the defauls score is R2\n",
    "train_r2 = round(linear_model.score(X_train, y_train),2)\n",
    "print('Training R2 score is {}'.format(train_r2))"
   ]
  },
  {
   "cell_type": "code",
   "execution_count": 13,
   "id": "5cf1ba30-e7d5-4504-878e-73a945cdb32a",
   "metadata": {},
   "outputs": [
    {
     "name": "stdout",
     "output_type": "stream",
     "text": [
      "RMSE of the linear model for the training set is 2.1001934828907904\n"
     ]
    }
   ],
   "source": [
    "#RMSE is a better measure for evuating the model on both trainin and testing data:\n",
    "y_train_predicted = linear_model.predict(X_train)\n",
    "#sklearn gives is mean_square_error. We need to take the square root to get RMSE\n",
    "rmse_train_linear = (np.sqrt(mean_squared_error(y_train, y_train_predicted)))\n",
    "print('RMSE of the linear model for the training set is {}'.format(rmse_train_linear))"
   ]
  },
  {
   "cell_type": "code",
   "execution_count": 14,
   "id": "d851b0dd-ba70-4d3c-ab5e-5c8eee22d13e",
   "metadata": {},
   "outputs": [
    {
     "name": "stdout",
     "output_type": "stream",
     "text": [
      "RMSE of the linear model for the test set is 2.121940482269274\n"
     ]
    }
   ],
   "source": [
    "y_pred = linear_model.predict(X_test)\n",
    "\n",
    "rmse_test_linear = (np.sqrt(mean_squared_error(y_test, y_pred)))\n",
    "print(\"RMSE of the linear model for the test set is {}\".format(rmse_test_linear))"
   ]
  },
  {
   "cell_type": "code",
   "execution_count": 15,
   "id": "c183efe3-0a16-4659-ba56-fd2c1f971ffe",
   "metadata": {},
   "outputs": [
    {
     "data": {
      "text/html": [
       "<div>\n",
       "<style scoped>\n",
       "    .dataframe tbody tr th:only-of-type {\n",
       "        vertical-align: middle;\n",
       "    }\n",
       "\n",
       "    .dataframe tbody tr th {\n",
       "        vertical-align: top;\n",
       "    }\n",
       "\n",
       "    .dataframe thead th {\n",
       "        text-align: right;\n",
       "    }\n",
       "</style>\n",
       "<table border=\"1\" class=\"dataframe\">\n",
       "  <thead>\n",
       "    <tr style=\"text-align: right;\">\n",
       "      <th></th>\n",
       "      <th>feature</th>\n",
       "      <th>coefficient</th>\n",
       "    </tr>\n",
       "  </thead>\n",
       "  <tbody>\n",
       "    <tr>\n",
       "      <th>11</th>\n",
       "      <td>Velocity</td>\n",
       "      <td>2.228234</td>\n",
       "    </tr>\n",
       "    <tr>\n",
       "      <th>9</th>\n",
       "      <td>depth</td>\n",
       "      <td>1.332577</td>\n",
       "    </tr>\n",
       "    <tr>\n",
       "      <th>2</th>\n",
       "      <td>Tair</td>\n",
       "      <td>0.516755</td>\n",
       "    </tr>\n",
       "    <tr>\n",
       "      <th>0</th>\n",
       "      <td>DOY</td>\n",
       "      <td>-0.033047</td>\n",
       "    </tr>\n",
       "    <tr>\n",
       "      <th>10</th>\n",
       "      <td>width</td>\n",
       "      <td>-0.183001</td>\n",
       "    </tr>\n",
       "    <tr>\n",
       "      <th>7</th>\n",
       "      <td>Wind</td>\n",
       "      <td>-0.427710</td>\n",
       "    </tr>\n",
       "    <tr>\n",
       "      <th>4</th>\n",
       "      <td>SW</td>\n",
       "      <td>-0.458509</td>\n",
       "    </tr>\n",
       "    <tr>\n",
       "      <th>3</th>\n",
       "      <td>vp</td>\n",
       "      <td>-0.476049</td>\n",
       "    </tr>\n",
       "    <tr>\n",
       "      <th>5</th>\n",
       "      <td>LW</td>\n",
       "      <td>-0.520193</td>\n",
       "    </tr>\n",
       "    <tr>\n",
       "      <th>8</th>\n",
       "      <td>Q_in</td>\n",
       "      <td>-0.680914</td>\n",
       "    </tr>\n",
       "    <tr>\n",
       "      <th>1</th>\n",
       "      <td>cell</td>\n",
       "      <td>-1.297686</td>\n",
       "    </tr>\n",
       "    <tr>\n",
       "      <th>6</th>\n",
       "      <td>P</td>\n",
       "      <td>-1.348919</td>\n",
       "    </tr>\n",
       "  </tbody>\n",
       "</table>\n",
       "</div>"
      ],
      "text/plain": [
       "     feature  coefficient\n",
       "11  Velocity     2.228234\n",
       "9      depth     1.332577\n",
       "2       Tair     0.516755\n",
       "0        DOY    -0.033047\n",
       "10     width    -0.183001\n",
       "7       Wind    -0.427710\n",
       "4         SW    -0.458509\n",
       "3         vp    -0.476049\n",
       "5         LW    -0.520193\n",
       "8       Q_in    -0.680914\n",
       "1       cell    -1.297686\n",
       "6          P    -1.348919"
      ]
     },
     "execution_count": 15,
     "metadata": {},
     "output_type": "execute_result"
    }
   ],
   "source": [
    "linear_coefficients = pd.concat([pd.DataFrame(X.columns, columns={'feature'}),pd.DataFrame(np.transpose(linear_model.coef_), columns={'coefficient'})], axis = 1) \n",
    "linear_coefficients.sort_values(by='coefficient', ascending=False, inplace=True)\n",
    "linear_coefficients"
   ]
  },
  {
   "cell_type": "markdown",
   "id": "5c9ced90-d525-41a9-9ef8-8ed93896c0d3",
   "metadata": {
    "jp-MarkdownHeadingCollapsed": true,
    "tags": []
   },
   "source": [
    "## Lasso"
   ]
  },
  {
   "cell_type": "code",
   "execution_count": 99,
   "id": "7cf0c360-5f8d-44ed-a232-4bf5ef50a2a1",
   "metadata": {},
   "outputs": [
    {
     "data": {
      "text/plain": [
       "{'alpha': 0.751}"
      ]
     },
     "execution_count": 99,
     "metadata": {},
     "output_type": "execute_result"
    }
   ],
   "source": [
    "from sklearn.linear_model import Lasso\n",
    "\n",
    "lasso = Lasso()\n",
    "lasso_params_grid = {'alpha':np.arange(0.001, 10, 0.05)}\n",
    "\n",
    "lasso_cv =  RandomizedSearchCV(Lasso(), lasso_params_grid, cv=5, scoring ='neg_root_mean_squared_error', random_state=42)\n",
    "lasso_cv.fit(X_train,y_train)\n",
    "lasso_cv.best_params_"
   ]
  },
  {
   "cell_type": "code",
   "execution_count": 100,
   "id": "581ad83f-330a-4899-9cbe-9bd7c89e5638",
   "metadata": {},
   "outputs": [
    {
     "data": {
      "text/plain": [
       "Lasso(alpha=0.751)"
      ]
     },
     "execution_count": 100,
     "metadata": {},
     "output_type": "execute_result"
    }
   ],
   "source": [
    "best_lasso = Lasso(alpha= 0.751)\n",
    "best_lasso.fit(X_train, y_train)"
   ]
  },
  {
   "cell_type": "code",
   "execution_count": 101,
   "id": "5eccf2b8-db63-40fc-9cfd-befe07f5aeec",
   "metadata": {},
   "outputs": [
    {
     "name": "stdout",
     "output_type": "stream",
     "text": [
      "Training R2 score is 0.05\n",
      "RMSE on the training set for the lasso model is: 2.5775048173499626\n"
     ]
    }
   ],
   "source": [
    "# model evaluation for training set\n",
    "train_r2_lasso = round(best_lasso.score(X_train, y_train),2)\n",
    "print('Training R2 score is {}'.format(train_r2_lasso))\n",
    "y_train_predicted_lasso = best_lasso.predict(X_train)\n",
    "rmse_train_lasso = (np.sqrt(mean_squared_error(y_train, y_train_predicted_lasso)))\n",
    "print('RMSE on the training set for the lasso model is: {}'.format(rmse_train_lasso))"
   ]
  },
  {
   "cell_type": "code",
   "execution_count": 102,
   "id": "b2629c03-bca7-47ef-a689-3414ec3a91dc",
   "metadata": {},
   "outputs": [
    {
     "name": "stdout",
     "output_type": "stream",
     "text": [
      "RMSE on test set is for the lasso model is: 2.588280467783236\n"
     ]
    }
   ],
   "source": [
    "# model evaluation for test set\n",
    "y_test_predicted_lasso = best_lasso.predict(X_test)\n",
    "rmse_test_lasso = (np.sqrt(mean_squared_error(y_test, y_test_predicted_lasso)))\n",
    "print(\"RMSE on test set is for the lasso model is: {}\".format(rmse_test_lasso))"
   ]
  },
  {
   "cell_type": "code",
   "execution_count": 104,
   "id": "65371b8f-8123-4588-9d10-dd320b0e44bf",
   "metadata": {},
   "outputs": [
    {
     "data": {
      "text/html": [
       "<div>\n",
       "<style scoped>\n",
       "    .dataframe tbody tr th:only-of-type {\n",
       "        vertical-align: middle;\n",
       "    }\n",
       "\n",
       "    .dataframe tbody tr th {\n",
       "        vertical-align: top;\n",
       "    }\n",
       "\n",
       "    .dataframe thead th {\n",
       "        text-align: right;\n",
       "    }\n",
       "</style>\n",
       "<table border=\"1\" class=\"dataframe\">\n",
       "  <thead>\n",
       "    <tr style=\"text-align: right;\">\n",
       "      <th></th>\n",
       "      <th>feature</th>\n",
       "      <th>coefficient</th>\n",
       "    </tr>\n",
       "  </thead>\n",
       "  <tbody>\n",
       "    <tr>\n",
       "      <th>0</th>\n",
       "      <td>DOY</td>\n",
       "      <td>0.000000</td>\n",
       "    </tr>\n",
       "    <tr>\n",
       "      <th>1</th>\n",
       "      <td>cell</td>\n",
       "      <td>-0.000000</td>\n",
       "    </tr>\n",
       "    <tr>\n",
       "      <th>2</th>\n",
       "      <td>Tair</td>\n",
       "      <td>-0.000000</td>\n",
       "    </tr>\n",
       "    <tr>\n",
       "      <th>3</th>\n",
       "      <td>vp</td>\n",
       "      <td>-0.000000</td>\n",
       "    </tr>\n",
       "    <tr>\n",
       "      <th>4</th>\n",
       "      <td>SW</td>\n",
       "      <td>0.000000</td>\n",
       "    </tr>\n",
       "    <tr>\n",
       "      <th>5</th>\n",
       "      <td>LW</td>\n",
       "      <td>-0.000000</td>\n",
       "    </tr>\n",
       "    <tr>\n",
       "      <th>7</th>\n",
       "      <td>Wind</td>\n",
       "      <td>-0.000000</td>\n",
       "    </tr>\n",
       "    <tr>\n",
       "      <th>8</th>\n",
       "      <td>Q_in</td>\n",
       "      <td>-0.000000</td>\n",
       "    </tr>\n",
       "    <tr>\n",
       "      <th>9</th>\n",
       "      <td>depth</td>\n",
       "      <td>-0.000000</td>\n",
       "    </tr>\n",
       "    <tr>\n",
       "      <th>10</th>\n",
       "      <td>width</td>\n",
       "      <td>0.000000</td>\n",
       "    </tr>\n",
       "    <tr>\n",
       "      <th>11</th>\n",
       "      <td>Velocity</td>\n",
       "      <td>0.000000</td>\n",
       "    </tr>\n",
       "    <tr>\n",
       "      <th>6</th>\n",
       "      <td>P</td>\n",
       "      <td>-0.191082</td>\n",
       "    </tr>\n",
       "  </tbody>\n",
       "</table>\n",
       "</div>"
      ],
      "text/plain": [
       "     feature  coefficient\n",
       "0        DOY     0.000000\n",
       "1       cell    -0.000000\n",
       "2       Tair    -0.000000\n",
       "3         vp    -0.000000\n",
       "4         SW     0.000000\n",
       "5         LW    -0.000000\n",
       "7       Wind    -0.000000\n",
       "8       Q_in    -0.000000\n",
       "9      depth    -0.000000\n",
       "10     width     0.000000\n",
       "11  Velocity     0.000000\n",
       "6          P    -0.191082"
      ]
     },
     "execution_count": 104,
     "metadata": {},
     "output_type": "execute_result"
    }
   ],
   "source": [
    "lasso_coefficients = pd.concat([pd.DataFrame(X.columns, columns={'feature'}),pd.DataFrame(np.transpose(best_lasso.coef_), columns={'coefficient'})], axis = 1) \n",
    "lasso_coefficients.sort_values(by='coefficient', ascending=False, inplace=True)\n",
    "lasso_coefficients"
   ]
  },
  {
   "cell_type": "markdown",
   "id": "cf037836-51d2-42a0-bc9e-b6054fd17a8b",
   "metadata": {
    "jp-MarkdownHeadingCollapsed": true,
    "tags": []
   },
   "source": [
    "## Ridge"
   ]
  },
  {
   "cell_type": "code",
   "execution_count": 105,
   "id": "2d72879c-bb3d-4c70-a9a8-27709f0ee1db",
   "metadata": {},
   "outputs": [
    {
     "data": {
      "text/plain": [
       "{'alpha': 0.751}"
      ]
     },
     "execution_count": 105,
     "metadata": {},
     "output_type": "execute_result"
    }
   ],
   "source": [
    "from sklearn.linear_model import Ridge\n",
    "ridge_params_grid = {'alpha':np.arange(0.001, 10, 0.05)} \n",
    "ridge_cv = RandomizedSearchCV(Ridge(), ridge_params_grid, cv=5, scoring ='neg_root_mean_squared_error', random_state=42)\n",
    "ridge_cv.fit(X_train,y_train)\n",
    "ridge_cv.best_params_"
   ]
  },
  {
   "cell_type": "code",
   "execution_count": 106,
   "id": "11fff53c-c3a1-4bfe-9c9f-ff96580e884b",
   "metadata": {},
   "outputs": [
    {
     "data": {
      "text/plain": [
       "Ridge(alpha=0.751)"
      ]
     },
     "execution_count": 106,
     "metadata": {},
     "output_type": "execute_result"
    }
   ],
   "source": [
    "# create best_ridge and fit it to the training data\n",
    "best_ridge = Ridge(alpha= 0.751)\n",
    "best_ridge.fit(X_train,y_train)"
   ]
  },
  {
   "cell_type": "code",
   "execution_count": 107,
   "id": "0432854b-4111-4238-9c02-b243a8193719",
   "metadata": {},
   "outputs": [
    {
     "name": "stdout",
     "output_type": "stream",
     "text": [
      "Training R2 score is 0.37\n",
      "RMSE on the training set for the ridge model is: 2.100193519168613\n"
     ]
    }
   ],
   "source": [
    "# model evaluation for training set\n",
    "train_r2_ridge = round(best_ridge.score(X_train, y_train),2)\n",
    "print('Training R2 score is {}'.format(train_r2_ridge))\n",
    "y_train_predicted_ridge = best_ridge.predict(X_train)\n",
    "rmse_train_ridge = (np.sqrt(mean_squared_error(y_train, y_train_predicted_ridge)))\n",
    "print('RMSE on the training set for the ridge model is: {}'.format(rmse_train_ridge))"
   ]
  },
  {
   "cell_type": "code",
   "execution_count": 108,
   "id": "5a48510d-6f91-4810-ac3c-b1abd1afedc5",
   "metadata": {},
   "outputs": [
    {
     "name": "stdout",
     "output_type": "stream",
     "text": [
      "RMSE on testing set is for the ridge model is: 2.1219425320164746\n"
     ]
    }
   ],
   "source": [
    "# model evaluation for test set\n",
    "y_test_predicted_ridge = best_ridge.predict(X_test)\n",
    "rmse_test_ridge = (np.sqrt(mean_squared_error(y_test, y_test_predicted_ridge)))\n",
    "print(\"RMSE on testing set is for the ridge model is: {}\".format(rmse_test_ridge))"
   ]
  },
  {
   "cell_type": "code",
   "execution_count": 109,
   "id": "e50779dc-2bbb-481b-9b87-0f8d089342d6",
   "metadata": {},
   "outputs": [
    {
     "data": {
      "text/html": [
       "<div>\n",
       "<style scoped>\n",
       "    .dataframe tbody tr th:only-of-type {\n",
       "        vertical-align: middle;\n",
       "    }\n",
       "\n",
       "    .dataframe tbody tr th {\n",
       "        vertical-align: top;\n",
       "    }\n",
       "\n",
       "    .dataframe thead th {\n",
       "        text-align: right;\n",
       "    }\n",
       "</style>\n",
       "<table border=\"1\" class=\"dataframe\">\n",
       "  <thead>\n",
       "    <tr style=\"text-align: right;\">\n",
       "      <th></th>\n",
       "      <th>variable</th>\n",
       "      <th>coefficient</th>\n",
       "    </tr>\n",
       "  </thead>\n",
       "  <tbody>\n",
       "    <tr>\n",
       "      <th>11</th>\n",
       "      <td>Velocity</td>\n",
       "      <td>2.227441</td>\n",
       "    </tr>\n",
       "    <tr>\n",
       "      <th>9</th>\n",
       "      <td>depth</td>\n",
       "      <td>1.332113</td>\n",
       "    </tr>\n",
       "    <tr>\n",
       "      <th>2</th>\n",
       "      <td>Tair</td>\n",
       "      <td>0.516368</td>\n",
       "    </tr>\n",
       "    <tr>\n",
       "      <th>0</th>\n",
       "      <td>DOY</td>\n",
       "      <td>-0.032860</td>\n",
       "    </tr>\n",
       "    <tr>\n",
       "      <th>10</th>\n",
       "      <td>width</td>\n",
       "      <td>-0.182777</td>\n",
       "    </tr>\n",
       "    <tr>\n",
       "      <th>7</th>\n",
       "      <td>Wind</td>\n",
       "      <td>-0.427706</td>\n",
       "    </tr>\n",
       "    <tr>\n",
       "      <th>4</th>\n",
       "      <td>SW</td>\n",
       "      <td>-0.458082</td>\n",
       "    </tr>\n",
       "    <tr>\n",
       "      <th>3</th>\n",
       "      <td>vp</td>\n",
       "      <td>-0.476052</td>\n",
       "    </tr>\n",
       "    <tr>\n",
       "      <th>5</th>\n",
       "      <td>LW</td>\n",
       "      <td>-0.519870</td>\n",
       "    </tr>\n",
       "    <tr>\n",
       "      <th>8</th>\n",
       "      <td>Q_in</td>\n",
       "      <td>-0.680670</td>\n",
       "    </tr>\n",
       "    <tr>\n",
       "      <th>1</th>\n",
       "      <td>cell</td>\n",
       "      <td>-1.297168</td>\n",
       "    </tr>\n",
       "    <tr>\n",
       "      <th>6</th>\n",
       "      <td>P</td>\n",
       "      <td>-1.348746</td>\n",
       "    </tr>\n",
       "  </tbody>\n",
       "</table>\n",
       "</div>"
      ],
      "text/plain": [
       "    variable  coefficient\n",
       "11  Velocity     2.227441\n",
       "9      depth     1.332113\n",
       "2       Tair     0.516368\n",
       "0        DOY    -0.032860\n",
       "10     width    -0.182777\n",
       "7       Wind    -0.427706\n",
       "4         SW    -0.458082\n",
       "3         vp    -0.476052\n",
       "5         LW    -0.519870\n",
       "8       Q_in    -0.680670\n",
       "1       cell    -1.297168\n",
       "6          P    -1.348746"
      ]
     },
     "execution_count": 109,
     "metadata": {},
     "output_type": "execute_result"
    }
   ],
   "source": [
    "ridge_coefficients = pd.concat([pd.DataFrame(X.columns, columns={'variable'}),pd.DataFrame(np.transpose(best_ridge.coef_), columns={'coefficient'})], axis = 1) \n",
    "ridge_coefficients.sort_values(by='coefficient', ascending=False, inplace=True)\n",
    "ridge_coefficients"
   ]
  },
  {
   "cell_type": "markdown",
   "id": "0c42adb2-3ffd-46e2-9202-a32c7f703b3f",
   "metadata": {
    "tags": []
   },
   "source": [
    "## Random Forest Regression"
   ]
  },
  {
   "cell_type": "code",
   "execution_count": 110,
   "id": "c1e1b72b-f8ee-4afb-9e21-ff8300472846",
   "metadata": {},
   "outputs": [
    {
     "data": {
      "text/plain": [
       "{'min_samples_split': 44,\n",
       " 'min_samples_leaf': 8,\n",
       " 'max_features': 'sqrt',\n",
       " 'max_depth': 9}"
      ]
     },
     "execution_count": 110,
     "metadata": {},
     "output_type": "execute_result"
    }
   ],
   "source": [
    "from sklearn.ensemble import RandomForestRegressor\n",
    "\n",
    "rf_regressor = RandomForestRegressor(random_state=42)\n",
    "\n",
    "\n",
    "rf_params = {'max_depth':np.arange(1,10,1),\n",
    "             'min_samples_split':np.arange(2,50,1),\n",
    "             'min_samples_leaf':np.arange(2,50,1),\n",
    "             'max_features':['sqrt', 'log2']} # could also add 'criterion':['mse', 'mae'],\n",
    "\n",
    "#TODO: find optimal parameters for random forest regressor using  RandomizedSearchCV. Set random_state=42 and be careful about scoring type\n",
    "rf_regressor_cv = RandomizedSearchCV(rf_regressor, rf_params, cv=5, scoring='neg_root_mean_squared_error', random_state=42)\n",
    "\n",
    "\n",
    "rf_regressor_cv.fit(X_train, y_train)\n",
    "rf_regressor_cv.best_params_"
   ]
  },
  {
   "cell_type": "code",
   "execution_count": 111,
   "id": "c484a6d2-bb45-4261-8828-2c35a90f0a22",
   "metadata": {},
   "outputs": [
    {
     "data": {
      "text/plain": [
       "RandomForestRegressor(max_depth=9, max_features='sqrt', min_samples_leaf=8,\n",
       "                      min_samples_split=44)"
      ]
     },
     "execution_count": 111,
     "metadata": {},
     "output_type": "execute_result"
    }
   ],
   "source": [
    "np.random.seed(42)\n",
    "\n",
    "# create best_rf_regressor sunig the parameters above and fit it to training data\n",
    "best_rf_regressor = RandomForestRegressor(max_depth= 9, max_features = 'sqrt', min_samples_leaf= 8, min_samples_split=44)\n",
    "best_rf_regressor.fit(X_train, y_train)"
   ]
  },
  {
   "cell_type": "code",
   "execution_count": 112,
   "id": "ccfa688e-c92b-4b80-ac04-311edd6e9fd3",
   "metadata": {},
   "outputs": [
    {
     "name": "stdout",
     "output_type": "stream",
     "text": [
      "Training R2 score of Random Forest is 0.83\n",
      "RMSE on the training set for the Random Forest model is: 1.1021207361414642\n"
     ]
    }
   ],
   "source": [
    "# model evaluation for training set\n",
    "train_r2_rf = round(best_rf_regressor.score(X_train, y_train),2)\n",
    "print('Training R2 score of Random Forest is {}'.format(train_r2_rf))\n",
    "y_train_predicted_rf = best_rf_regressor.predict(X_train)\n",
    "rmse_train_rf = (np.sqrt(mean_squared_error(y_train, y_train_predicted_rf)))\n",
    "print('RMSE on the training set for the Random Forest model is: {}'.format(rmse_train_rf))"
   ]
  },
  {
   "cell_type": "code",
   "execution_count": 113,
   "id": "ade270f1-1669-4cf1-9d4b-dc37550dfbd9",
   "metadata": {},
   "outputs": [
    {
     "name": "stdout",
     "output_type": "stream",
     "text": [
      "RMSE on testing set is for the Random Forest model is: 1.1371942432036102\n"
     ]
    }
   ],
   "source": [
    "# model evaluation for test set\n",
    "y_test_predicted_rf = best_rf_regressor.predict(X_test)\n",
    "rmse_test_rf= (np.sqrt(mean_squared_error(y_test, y_test_predicted_rf)))\n",
    "print(\"RMSE on testing set is for the Random Forest model is: {}\".format(rmse_test_rf))"
   ]
  },
  {
   "cell_type": "code",
   "execution_count": 114,
   "id": "ac95fec3-5364-44db-86b2-dfd7fdc768aa",
   "metadata": {},
   "outputs": [
    {
     "data": {
      "text/html": [
       "<div>\n",
       "<style scoped>\n",
       "    .dataframe tbody tr th:only-of-type {\n",
       "        vertical-align: middle;\n",
       "    }\n",
       "\n",
       "    .dataframe tbody tr th {\n",
       "        vertical-align: top;\n",
       "    }\n",
       "\n",
       "    .dataframe thead th {\n",
       "        text-align: right;\n",
       "    }\n",
       "</style>\n",
       "<table border=\"1\" class=\"dataframe\">\n",
       "  <thead>\n",
       "    <tr style=\"text-align: right;\">\n",
       "      <th></th>\n",
       "      <th>feature</th>\n",
       "      <th>Importance</th>\n",
       "    </tr>\n",
       "  </thead>\n",
       "  <tbody>\n",
       "    <tr>\n",
       "      <th>1</th>\n",
       "      <td>cell</td>\n",
       "      <td>0.392220</td>\n",
       "    </tr>\n",
       "    <tr>\n",
       "      <th>6</th>\n",
       "      <td>P</td>\n",
       "      <td>0.190739</td>\n",
       "    </tr>\n",
       "    <tr>\n",
       "      <th>0</th>\n",
       "      <td>DOY</td>\n",
       "      <td>0.109522</td>\n",
       "    </tr>\n",
       "    <tr>\n",
       "      <th>8</th>\n",
       "      <td>Q_in</td>\n",
       "      <td>0.078173</td>\n",
       "    </tr>\n",
       "    <tr>\n",
       "      <th>2</th>\n",
       "      <td>Tair</td>\n",
       "      <td>0.058250</td>\n",
       "    </tr>\n",
       "    <tr>\n",
       "      <th>3</th>\n",
       "      <td>vp</td>\n",
       "      <td>0.041467</td>\n",
       "    </tr>\n",
       "    <tr>\n",
       "      <th>5</th>\n",
       "      <td>LW</td>\n",
       "      <td>0.036929</td>\n",
       "    </tr>\n",
       "    <tr>\n",
       "      <th>4</th>\n",
       "      <td>SW</td>\n",
       "      <td>0.025696</td>\n",
       "    </tr>\n",
       "    <tr>\n",
       "      <th>10</th>\n",
       "      <td>width</td>\n",
       "      <td>0.023649</td>\n",
       "    </tr>\n",
       "    <tr>\n",
       "      <th>9</th>\n",
       "      <td>depth</td>\n",
       "      <td>0.015938</td>\n",
       "    </tr>\n",
       "    <tr>\n",
       "      <th>11</th>\n",
       "      <td>Velocity</td>\n",
       "      <td>0.014031</td>\n",
       "    </tr>\n",
       "    <tr>\n",
       "      <th>7</th>\n",
       "      <td>Wind</td>\n",
       "      <td>0.013384</td>\n",
       "    </tr>\n",
       "  </tbody>\n",
       "</table>\n",
       "</div>"
      ],
      "text/plain": [
       "     feature  Importance\n",
       "1       cell    0.392220\n",
       "6          P    0.190739\n",
       "0        DOY    0.109522\n",
       "8       Q_in    0.078173\n",
       "2       Tair    0.058250\n",
       "3         vp    0.041467\n",
       "5         LW    0.036929\n",
       "4         SW    0.025696\n",
       "10     width    0.023649\n",
       "9      depth    0.015938\n",
       "11  Velocity    0.014031\n",
       "7       Wind    0.013384"
      ]
     },
     "execution_count": 114,
     "metadata": {},
     "output_type": "execute_result"
    }
   ],
   "source": [
    "rf_importance = pd.concat([pd.DataFrame(X.columns, columns={'feature'}),pd.DataFrame(np.transpose(best_rf_regressor.feature_importances_), columns={'Importance'})], axis = 1) \n",
    "rf_importance.sort_values(by='Importance', ascending=False, inplace=True)\n",
    "rf_importance"
   ]
  },
  {
   "cell_type": "markdown",
   "id": "f6f6d890-1c30-4980-ac51-e293d97c13f1",
   "metadata": {
    "jp-MarkdownHeadingCollapsed": true,
    "tags": []
   },
   "source": [
    "## Support Vector Machines"
   ]
  },
  {
   "cell_type": "code",
   "execution_count": 18,
   "id": "2cc1289c-1ba6-44ab-8d08-7f18ff81a5a4",
   "metadata": {},
   "outputs": [
    {
     "ename": "KeyboardInterrupt",
     "evalue": "",
     "output_type": "error",
     "traceback": [
      "\u001b[0;31m---------------------------------------------------------------------------\u001b[0m",
      "\u001b[0;31mKeyboardInterrupt\u001b[0m                         Traceback (most recent call last)",
      "\u001b[0;32m<ipython-input-18-ae7bee83a0b6>\u001b[0m in \u001b[0;36m<module>\u001b[0;34m\u001b[0m\n\u001b[1;32m      7\u001b[0m \u001b[0;34m\u001b[0m\u001b[0m\n\u001b[1;32m      8\u001b[0m \u001b[0msvr_cv\u001b[0m \u001b[0;34m=\u001b[0m \u001b[0mRandomizedSearchCV\u001b[0m\u001b[0;34m(\u001b[0m\u001b[0msvr\u001b[0m\u001b[0;34m,\u001b[0m \u001b[0msvr_params\u001b[0m\u001b[0;34m,\u001b[0m \u001b[0mcv\u001b[0m\u001b[0;34m=\u001b[0m\u001b[0;36m5\u001b[0m\u001b[0;34m,\u001b[0m \u001b[0mscoring\u001b[0m\u001b[0;34m=\u001b[0m\u001b[0;34m'neg_root_mean_squared_error'\u001b[0m\u001b[0;34m,\u001b[0m \u001b[0mrandom_state\u001b[0m\u001b[0;34m=\u001b[0m\u001b[0;36m42\u001b[0m\u001b[0;34m)\u001b[0m\u001b[0;34m\u001b[0m\u001b[0;34m\u001b[0m\u001b[0m\n\u001b[0;32m----> 9\u001b[0;31m \u001b[0msvr_cv\u001b[0m\u001b[0;34m.\u001b[0m\u001b[0mfit\u001b[0m\u001b[0;34m(\u001b[0m\u001b[0mX_train\u001b[0m\u001b[0;34m,\u001b[0m \u001b[0my_train\u001b[0m\u001b[0;34m)\u001b[0m\u001b[0;34m\u001b[0m\u001b[0;34m\u001b[0m\u001b[0m\n\u001b[0m\u001b[1;32m     10\u001b[0m \u001b[0msvr_cv\u001b[0m\u001b[0;34m.\u001b[0m\u001b[0mbest_params_\u001b[0m\u001b[0;34m\u001b[0m\u001b[0;34m\u001b[0m\u001b[0m\n",
      "\u001b[0;32m~/miniconda3/envs/py3/lib/python3.6/site-packages/sklearn/utils/validation.py\u001b[0m in \u001b[0;36minner_f\u001b[0;34m(*args, **kwargs)\u001b[0m\n\u001b[1;32m     61\u001b[0m             \u001b[0mextra_args\u001b[0m \u001b[0;34m=\u001b[0m \u001b[0mlen\u001b[0m\u001b[0;34m(\u001b[0m\u001b[0margs\u001b[0m\u001b[0;34m)\u001b[0m \u001b[0;34m-\u001b[0m \u001b[0mlen\u001b[0m\u001b[0;34m(\u001b[0m\u001b[0mall_args\u001b[0m\u001b[0;34m)\u001b[0m\u001b[0;34m\u001b[0m\u001b[0;34m\u001b[0m\u001b[0m\n\u001b[1;32m     62\u001b[0m             \u001b[0;32mif\u001b[0m \u001b[0mextra_args\u001b[0m \u001b[0;34m<=\u001b[0m \u001b[0;36m0\u001b[0m\u001b[0;34m:\u001b[0m\u001b[0;34m\u001b[0m\u001b[0;34m\u001b[0m\u001b[0m\n\u001b[0;32m---> 63\u001b[0;31m                 \u001b[0;32mreturn\u001b[0m \u001b[0mf\u001b[0m\u001b[0;34m(\u001b[0m\u001b[0;34m*\u001b[0m\u001b[0margs\u001b[0m\u001b[0;34m,\u001b[0m \u001b[0;34m**\u001b[0m\u001b[0mkwargs\u001b[0m\u001b[0;34m)\u001b[0m\u001b[0;34m\u001b[0m\u001b[0;34m\u001b[0m\u001b[0m\n\u001b[0m\u001b[1;32m     64\u001b[0m \u001b[0;34m\u001b[0m\u001b[0m\n\u001b[1;32m     65\u001b[0m             \u001b[0;31m# extra_args > 0\u001b[0m\u001b[0;34m\u001b[0m\u001b[0;34m\u001b[0m\u001b[0;34m\u001b[0m\u001b[0m\n",
      "\u001b[0;32m~/miniconda3/envs/py3/lib/python3.6/site-packages/sklearn/model_selection/_search.py\u001b[0m in \u001b[0;36mfit\u001b[0;34m(self, X, y, groups, **fit_params)\u001b[0m\n\u001b[1;32m    839\u001b[0m                 \u001b[0;32mreturn\u001b[0m \u001b[0mresults\u001b[0m\u001b[0;34m\u001b[0m\u001b[0;34m\u001b[0m\u001b[0m\n\u001b[1;32m    840\u001b[0m \u001b[0;34m\u001b[0m\u001b[0m\n\u001b[0;32m--> 841\u001b[0;31m             \u001b[0mself\u001b[0m\u001b[0;34m.\u001b[0m\u001b[0m_run_search\u001b[0m\u001b[0;34m(\u001b[0m\u001b[0mevaluate_candidates\u001b[0m\u001b[0;34m)\u001b[0m\u001b[0;34m\u001b[0m\u001b[0;34m\u001b[0m\u001b[0m\n\u001b[0m\u001b[1;32m    842\u001b[0m \u001b[0;34m\u001b[0m\u001b[0m\n\u001b[1;32m    843\u001b[0m             \u001b[0;31m# multimetric is determined here because in the case of a callable\u001b[0m\u001b[0;34m\u001b[0m\u001b[0;34m\u001b[0m\u001b[0;34m\u001b[0m\u001b[0m\n",
      "\u001b[0;32m~/miniconda3/envs/py3/lib/python3.6/site-packages/sklearn/model_selection/_search.py\u001b[0m in \u001b[0;36m_run_search\u001b[0;34m(self, evaluate_candidates)\u001b[0m\n\u001b[1;32m   1619\u001b[0m         evaluate_candidates(ParameterSampler(\n\u001b[1;32m   1620\u001b[0m             \u001b[0mself\u001b[0m\u001b[0;34m.\u001b[0m\u001b[0mparam_distributions\u001b[0m\u001b[0;34m,\u001b[0m \u001b[0mself\u001b[0m\u001b[0;34m.\u001b[0m\u001b[0mn_iter\u001b[0m\u001b[0;34m,\u001b[0m\u001b[0;34m\u001b[0m\u001b[0;34m\u001b[0m\u001b[0m\n\u001b[0;32m-> 1621\u001b[0;31m             random_state=self.random_state))\n\u001b[0m",
      "\u001b[0;32m~/miniconda3/envs/py3/lib/python3.6/site-packages/sklearn/model_selection/_search.py\u001b[0m in \u001b[0;36mevaluate_candidates\u001b[0;34m(candidate_params, cv, more_results)\u001b[0m\n\u001b[1;32m    807\u001b[0m                                    (split_idx, (train, test)) in product(\n\u001b[1;32m    808\u001b[0m                                    \u001b[0menumerate\u001b[0m\u001b[0;34m(\u001b[0m\u001b[0mcandidate_params\u001b[0m\u001b[0;34m)\u001b[0m\u001b[0;34m,\u001b[0m\u001b[0;34m\u001b[0m\u001b[0;34m\u001b[0m\u001b[0m\n\u001b[0;32m--> 809\u001b[0;31m                                    enumerate(cv.split(X, y, groups))))\n\u001b[0m\u001b[1;32m    810\u001b[0m \u001b[0;34m\u001b[0m\u001b[0m\n\u001b[1;32m    811\u001b[0m                 \u001b[0;32mif\u001b[0m \u001b[0mlen\u001b[0m\u001b[0;34m(\u001b[0m\u001b[0mout\u001b[0m\u001b[0;34m)\u001b[0m \u001b[0;34m<\u001b[0m \u001b[0;36m1\u001b[0m\u001b[0;34m:\u001b[0m\u001b[0;34m\u001b[0m\u001b[0;34m\u001b[0m\u001b[0m\n",
      "\u001b[0;32m~/miniconda3/envs/py3/lib/python3.6/site-packages/joblib/parallel.py\u001b[0m in \u001b[0;36m__call__\u001b[0;34m(self, iterable)\u001b[0m\n\u001b[1;32m   1042\u001b[0m                 \u001b[0mself\u001b[0m\u001b[0;34m.\u001b[0m\u001b[0m_iterating\u001b[0m \u001b[0;34m=\u001b[0m \u001b[0mself\u001b[0m\u001b[0;34m.\u001b[0m\u001b[0m_original_iterator\u001b[0m \u001b[0;32mis\u001b[0m \u001b[0;32mnot\u001b[0m \u001b[0;32mNone\u001b[0m\u001b[0;34m\u001b[0m\u001b[0;34m\u001b[0m\u001b[0m\n\u001b[1;32m   1043\u001b[0m \u001b[0;34m\u001b[0m\u001b[0m\n\u001b[0;32m-> 1044\u001b[0;31m             \u001b[0;32mwhile\u001b[0m \u001b[0mself\u001b[0m\u001b[0;34m.\u001b[0m\u001b[0mdispatch_one_batch\u001b[0m\u001b[0;34m(\u001b[0m\u001b[0miterator\u001b[0m\u001b[0;34m)\u001b[0m\u001b[0;34m:\u001b[0m\u001b[0;34m\u001b[0m\u001b[0;34m\u001b[0m\u001b[0m\n\u001b[0m\u001b[1;32m   1045\u001b[0m                 \u001b[0;32mpass\u001b[0m\u001b[0;34m\u001b[0m\u001b[0;34m\u001b[0m\u001b[0m\n\u001b[1;32m   1046\u001b[0m \u001b[0;34m\u001b[0m\u001b[0m\n",
      "\u001b[0;32m~/miniconda3/envs/py3/lib/python3.6/site-packages/joblib/parallel.py\u001b[0m in \u001b[0;36mdispatch_one_batch\u001b[0;34m(self, iterator)\u001b[0m\n\u001b[1;32m    857\u001b[0m                 \u001b[0;32mreturn\u001b[0m \u001b[0;32mFalse\u001b[0m\u001b[0;34m\u001b[0m\u001b[0;34m\u001b[0m\u001b[0m\n\u001b[1;32m    858\u001b[0m             \u001b[0;32melse\u001b[0m\u001b[0;34m:\u001b[0m\u001b[0;34m\u001b[0m\u001b[0;34m\u001b[0m\u001b[0m\n\u001b[0;32m--> 859\u001b[0;31m                 \u001b[0mself\u001b[0m\u001b[0;34m.\u001b[0m\u001b[0m_dispatch\u001b[0m\u001b[0;34m(\u001b[0m\u001b[0mtasks\u001b[0m\u001b[0;34m)\u001b[0m\u001b[0;34m\u001b[0m\u001b[0;34m\u001b[0m\u001b[0m\n\u001b[0m\u001b[1;32m    860\u001b[0m                 \u001b[0;32mreturn\u001b[0m \u001b[0;32mTrue\u001b[0m\u001b[0;34m\u001b[0m\u001b[0;34m\u001b[0m\u001b[0m\n\u001b[1;32m    861\u001b[0m \u001b[0;34m\u001b[0m\u001b[0m\n",
      "\u001b[0;32m~/miniconda3/envs/py3/lib/python3.6/site-packages/joblib/parallel.py\u001b[0m in \u001b[0;36m_dispatch\u001b[0;34m(self, batch)\u001b[0m\n\u001b[1;32m    775\u001b[0m         \u001b[0;32mwith\u001b[0m \u001b[0mself\u001b[0m\u001b[0;34m.\u001b[0m\u001b[0m_lock\u001b[0m\u001b[0;34m:\u001b[0m\u001b[0;34m\u001b[0m\u001b[0;34m\u001b[0m\u001b[0m\n\u001b[1;32m    776\u001b[0m             \u001b[0mjob_idx\u001b[0m \u001b[0;34m=\u001b[0m \u001b[0mlen\u001b[0m\u001b[0;34m(\u001b[0m\u001b[0mself\u001b[0m\u001b[0;34m.\u001b[0m\u001b[0m_jobs\u001b[0m\u001b[0;34m)\u001b[0m\u001b[0;34m\u001b[0m\u001b[0;34m\u001b[0m\u001b[0m\n\u001b[0;32m--> 777\u001b[0;31m             \u001b[0mjob\u001b[0m \u001b[0;34m=\u001b[0m \u001b[0mself\u001b[0m\u001b[0;34m.\u001b[0m\u001b[0m_backend\u001b[0m\u001b[0;34m.\u001b[0m\u001b[0mapply_async\u001b[0m\u001b[0;34m(\u001b[0m\u001b[0mbatch\u001b[0m\u001b[0;34m,\u001b[0m \u001b[0mcallback\u001b[0m\u001b[0;34m=\u001b[0m\u001b[0mcb\u001b[0m\u001b[0;34m)\u001b[0m\u001b[0;34m\u001b[0m\u001b[0;34m\u001b[0m\u001b[0m\n\u001b[0m\u001b[1;32m    778\u001b[0m             \u001b[0;31m# A job can complete so quickly than its callback is\u001b[0m\u001b[0;34m\u001b[0m\u001b[0;34m\u001b[0m\u001b[0;34m\u001b[0m\u001b[0m\n\u001b[1;32m    779\u001b[0m             \u001b[0;31m# called before we get here, causing self._jobs to\u001b[0m\u001b[0;34m\u001b[0m\u001b[0;34m\u001b[0m\u001b[0;34m\u001b[0m\u001b[0m\n",
      "\u001b[0;32m~/miniconda3/envs/py3/lib/python3.6/site-packages/joblib/_parallel_backends.py\u001b[0m in \u001b[0;36mapply_async\u001b[0;34m(self, func, callback)\u001b[0m\n\u001b[1;32m    206\u001b[0m     \u001b[0;32mdef\u001b[0m \u001b[0mapply_async\u001b[0m\u001b[0;34m(\u001b[0m\u001b[0mself\u001b[0m\u001b[0;34m,\u001b[0m \u001b[0mfunc\u001b[0m\u001b[0;34m,\u001b[0m \u001b[0mcallback\u001b[0m\u001b[0;34m=\u001b[0m\u001b[0;32mNone\u001b[0m\u001b[0;34m)\u001b[0m\u001b[0;34m:\u001b[0m\u001b[0;34m\u001b[0m\u001b[0;34m\u001b[0m\u001b[0m\n\u001b[1;32m    207\u001b[0m         \u001b[0;34m\"\"\"Schedule a func to be run\"\"\"\u001b[0m\u001b[0;34m\u001b[0m\u001b[0;34m\u001b[0m\u001b[0m\n\u001b[0;32m--> 208\u001b[0;31m         \u001b[0mresult\u001b[0m \u001b[0;34m=\u001b[0m \u001b[0mImmediateResult\u001b[0m\u001b[0;34m(\u001b[0m\u001b[0mfunc\u001b[0m\u001b[0;34m)\u001b[0m\u001b[0;34m\u001b[0m\u001b[0;34m\u001b[0m\u001b[0m\n\u001b[0m\u001b[1;32m    209\u001b[0m         \u001b[0;32mif\u001b[0m \u001b[0mcallback\u001b[0m\u001b[0;34m:\u001b[0m\u001b[0;34m\u001b[0m\u001b[0;34m\u001b[0m\u001b[0m\n\u001b[1;32m    210\u001b[0m             \u001b[0mcallback\u001b[0m\u001b[0;34m(\u001b[0m\u001b[0mresult\u001b[0m\u001b[0;34m)\u001b[0m\u001b[0;34m\u001b[0m\u001b[0;34m\u001b[0m\u001b[0m\n",
      "\u001b[0;32m~/miniconda3/envs/py3/lib/python3.6/site-packages/joblib/_parallel_backends.py\u001b[0m in \u001b[0;36m__init__\u001b[0;34m(self, batch)\u001b[0m\n\u001b[1;32m    570\u001b[0m         \u001b[0;31m# Don't delay the application, to avoid keeping the input\u001b[0m\u001b[0;34m\u001b[0m\u001b[0;34m\u001b[0m\u001b[0;34m\u001b[0m\u001b[0m\n\u001b[1;32m    571\u001b[0m         \u001b[0;31m# arguments in memory\u001b[0m\u001b[0;34m\u001b[0m\u001b[0;34m\u001b[0m\u001b[0;34m\u001b[0m\u001b[0m\n\u001b[0;32m--> 572\u001b[0;31m         \u001b[0mself\u001b[0m\u001b[0;34m.\u001b[0m\u001b[0mresults\u001b[0m \u001b[0;34m=\u001b[0m \u001b[0mbatch\u001b[0m\u001b[0;34m(\u001b[0m\u001b[0;34m)\u001b[0m\u001b[0;34m\u001b[0m\u001b[0;34m\u001b[0m\u001b[0m\n\u001b[0m\u001b[1;32m    573\u001b[0m \u001b[0;34m\u001b[0m\u001b[0m\n\u001b[1;32m    574\u001b[0m     \u001b[0;32mdef\u001b[0m \u001b[0mget\u001b[0m\u001b[0;34m(\u001b[0m\u001b[0mself\u001b[0m\u001b[0;34m)\u001b[0m\u001b[0;34m:\u001b[0m\u001b[0;34m\u001b[0m\u001b[0;34m\u001b[0m\u001b[0m\n",
      "\u001b[0;32m~/miniconda3/envs/py3/lib/python3.6/site-packages/joblib/parallel.py\u001b[0m in \u001b[0;36m__call__\u001b[0;34m(self)\u001b[0m\n\u001b[1;32m    261\u001b[0m         \u001b[0;32mwith\u001b[0m \u001b[0mparallel_backend\u001b[0m\u001b[0;34m(\u001b[0m\u001b[0mself\u001b[0m\u001b[0;34m.\u001b[0m\u001b[0m_backend\u001b[0m\u001b[0;34m,\u001b[0m \u001b[0mn_jobs\u001b[0m\u001b[0;34m=\u001b[0m\u001b[0mself\u001b[0m\u001b[0;34m.\u001b[0m\u001b[0m_n_jobs\u001b[0m\u001b[0;34m)\u001b[0m\u001b[0;34m:\u001b[0m\u001b[0;34m\u001b[0m\u001b[0;34m\u001b[0m\u001b[0m\n\u001b[1;32m    262\u001b[0m             return [func(*args, **kwargs)\n\u001b[0;32m--> 263\u001b[0;31m                     for func, args, kwargs in self.items]\n\u001b[0m\u001b[1;32m    264\u001b[0m \u001b[0;34m\u001b[0m\u001b[0m\n\u001b[1;32m    265\u001b[0m     \u001b[0;32mdef\u001b[0m \u001b[0m__reduce__\u001b[0m\u001b[0;34m(\u001b[0m\u001b[0mself\u001b[0m\u001b[0;34m)\u001b[0m\u001b[0;34m:\u001b[0m\u001b[0;34m\u001b[0m\u001b[0;34m\u001b[0m\u001b[0m\n",
      "\u001b[0;32m~/miniconda3/envs/py3/lib/python3.6/site-packages/joblib/parallel.py\u001b[0m in \u001b[0;36m<listcomp>\u001b[0;34m(.0)\u001b[0m\n\u001b[1;32m    261\u001b[0m         \u001b[0;32mwith\u001b[0m \u001b[0mparallel_backend\u001b[0m\u001b[0;34m(\u001b[0m\u001b[0mself\u001b[0m\u001b[0;34m.\u001b[0m\u001b[0m_backend\u001b[0m\u001b[0;34m,\u001b[0m \u001b[0mn_jobs\u001b[0m\u001b[0;34m=\u001b[0m\u001b[0mself\u001b[0m\u001b[0;34m.\u001b[0m\u001b[0m_n_jobs\u001b[0m\u001b[0;34m)\u001b[0m\u001b[0;34m:\u001b[0m\u001b[0;34m\u001b[0m\u001b[0;34m\u001b[0m\u001b[0m\n\u001b[1;32m    262\u001b[0m             return [func(*args, **kwargs)\n\u001b[0;32m--> 263\u001b[0;31m                     for func, args, kwargs in self.items]\n\u001b[0m\u001b[1;32m    264\u001b[0m \u001b[0;34m\u001b[0m\u001b[0m\n\u001b[1;32m    265\u001b[0m     \u001b[0;32mdef\u001b[0m \u001b[0m__reduce__\u001b[0m\u001b[0;34m(\u001b[0m\u001b[0mself\u001b[0m\u001b[0;34m)\u001b[0m\u001b[0;34m:\u001b[0m\u001b[0;34m\u001b[0m\u001b[0;34m\u001b[0m\u001b[0m\n",
      "\u001b[0;32m~/miniconda3/envs/py3/lib/python3.6/site-packages/sklearn/utils/fixes.py\u001b[0m in \u001b[0;36m__call__\u001b[0;34m(self, *args, **kwargs)\u001b[0m\n\u001b[1;32m    220\u001b[0m     \u001b[0;32mdef\u001b[0m \u001b[0m__call__\u001b[0m\u001b[0;34m(\u001b[0m\u001b[0mself\u001b[0m\u001b[0;34m,\u001b[0m \u001b[0;34m*\u001b[0m\u001b[0margs\u001b[0m\u001b[0;34m,\u001b[0m \u001b[0;34m**\u001b[0m\u001b[0mkwargs\u001b[0m\u001b[0;34m)\u001b[0m\u001b[0;34m:\u001b[0m\u001b[0;34m\u001b[0m\u001b[0;34m\u001b[0m\u001b[0m\n\u001b[1;32m    221\u001b[0m         \u001b[0;32mwith\u001b[0m \u001b[0mconfig_context\u001b[0m\u001b[0;34m(\u001b[0m\u001b[0;34m**\u001b[0m\u001b[0mself\u001b[0m\u001b[0;34m.\u001b[0m\u001b[0mconfig\u001b[0m\u001b[0;34m)\u001b[0m\u001b[0;34m:\u001b[0m\u001b[0;34m\u001b[0m\u001b[0;34m\u001b[0m\u001b[0m\n\u001b[0;32m--> 222\u001b[0;31m             \u001b[0;32mreturn\u001b[0m \u001b[0mself\u001b[0m\u001b[0;34m.\u001b[0m\u001b[0mfunction\u001b[0m\u001b[0;34m(\u001b[0m\u001b[0;34m*\u001b[0m\u001b[0margs\u001b[0m\u001b[0;34m,\u001b[0m \u001b[0;34m**\u001b[0m\u001b[0mkwargs\u001b[0m\u001b[0;34m)\u001b[0m\u001b[0;34m\u001b[0m\u001b[0;34m\u001b[0m\u001b[0m\n\u001b[0m",
      "\u001b[0;32m~/miniconda3/envs/py3/lib/python3.6/site-packages/sklearn/model_selection/_validation.py\u001b[0m in \u001b[0;36m_fit_and_score\u001b[0;34m(estimator, X, y, scorer, train, test, verbose, parameters, fit_params, return_train_score, return_parameters, return_n_test_samples, return_times, return_estimator, split_progress, candidate_progress, error_score)\u001b[0m\n\u001b[1;32m    591\u001b[0m             \u001b[0mestimator\u001b[0m\u001b[0;34m.\u001b[0m\u001b[0mfit\u001b[0m\u001b[0;34m(\u001b[0m\u001b[0mX_train\u001b[0m\u001b[0;34m,\u001b[0m \u001b[0;34m**\u001b[0m\u001b[0mfit_params\u001b[0m\u001b[0;34m)\u001b[0m\u001b[0;34m\u001b[0m\u001b[0;34m\u001b[0m\u001b[0m\n\u001b[1;32m    592\u001b[0m         \u001b[0;32melse\u001b[0m\u001b[0;34m:\u001b[0m\u001b[0;34m\u001b[0m\u001b[0;34m\u001b[0m\u001b[0m\n\u001b[0;32m--> 593\u001b[0;31m             \u001b[0mestimator\u001b[0m\u001b[0;34m.\u001b[0m\u001b[0mfit\u001b[0m\u001b[0;34m(\u001b[0m\u001b[0mX_train\u001b[0m\u001b[0;34m,\u001b[0m \u001b[0my_train\u001b[0m\u001b[0;34m,\u001b[0m \u001b[0;34m**\u001b[0m\u001b[0mfit_params\u001b[0m\u001b[0;34m)\u001b[0m\u001b[0;34m\u001b[0m\u001b[0;34m\u001b[0m\u001b[0m\n\u001b[0m\u001b[1;32m    594\u001b[0m \u001b[0;34m\u001b[0m\u001b[0m\n\u001b[1;32m    595\u001b[0m     \u001b[0;32mexcept\u001b[0m \u001b[0mException\u001b[0m \u001b[0;32mas\u001b[0m \u001b[0me\u001b[0m\u001b[0;34m:\u001b[0m\u001b[0;34m\u001b[0m\u001b[0;34m\u001b[0m\u001b[0m\n",
      "\u001b[0;32m~/miniconda3/envs/py3/lib/python3.6/site-packages/sklearn/svm/_base.py\u001b[0m in \u001b[0;36mfit\u001b[0;34m(self, X, y, sample_weight)\u001b[0m\n\u001b[1;32m    224\u001b[0m \u001b[0;34m\u001b[0m\u001b[0m\n\u001b[1;32m    225\u001b[0m         \u001b[0mseed\u001b[0m \u001b[0;34m=\u001b[0m \u001b[0mrnd\u001b[0m\u001b[0;34m.\u001b[0m\u001b[0mrandint\u001b[0m\u001b[0;34m(\u001b[0m\u001b[0mnp\u001b[0m\u001b[0;34m.\u001b[0m\u001b[0miinfo\u001b[0m\u001b[0;34m(\u001b[0m\u001b[0;34m'i'\u001b[0m\u001b[0;34m)\u001b[0m\u001b[0;34m.\u001b[0m\u001b[0mmax\u001b[0m\u001b[0;34m)\u001b[0m\u001b[0;34m\u001b[0m\u001b[0;34m\u001b[0m\u001b[0m\n\u001b[0;32m--> 226\u001b[0;31m         \u001b[0mfit\u001b[0m\u001b[0;34m(\u001b[0m\u001b[0mX\u001b[0m\u001b[0;34m,\u001b[0m \u001b[0my\u001b[0m\u001b[0;34m,\u001b[0m \u001b[0msample_weight\u001b[0m\u001b[0;34m,\u001b[0m \u001b[0msolver_type\u001b[0m\u001b[0;34m,\u001b[0m \u001b[0mkernel\u001b[0m\u001b[0;34m,\u001b[0m \u001b[0mrandom_seed\u001b[0m\u001b[0;34m=\u001b[0m\u001b[0mseed\u001b[0m\u001b[0;34m)\u001b[0m\u001b[0;34m\u001b[0m\u001b[0;34m\u001b[0m\u001b[0m\n\u001b[0m\u001b[1;32m    227\u001b[0m         \u001b[0;31m# see comment on the other call to np.iinfo in this file\u001b[0m\u001b[0;34m\u001b[0m\u001b[0;34m\u001b[0m\u001b[0;34m\u001b[0m\u001b[0m\n\u001b[1;32m    228\u001b[0m \u001b[0;34m\u001b[0m\u001b[0m\n",
      "\u001b[0;32m~/miniconda3/envs/py3/lib/python3.6/site-packages/sklearn/svm/_base.py\u001b[0m in \u001b[0;36m_dense_fit\u001b[0;34m(self, X, y, sample_weight, solver_type, kernel, random_seed)\u001b[0m\n\u001b[1;32m    283\u001b[0m                 \u001b[0mcache_size\u001b[0m\u001b[0;34m=\u001b[0m\u001b[0mself\u001b[0m\u001b[0;34m.\u001b[0m\u001b[0mcache_size\u001b[0m\u001b[0;34m,\u001b[0m \u001b[0mcoef0\u001b[0m\u001b[0;34m=\u001b[0m\u001b[0mself\u001b[0m\u001b[0;34m.\u001b[0m\u001b[0mcoef0\u001b[0m\u001b[0;34m,\u001b[0m\u001b[0;34m\u001b[0m\u001b[0;34m\u001b[0m\u001b[0m\n\u001b[1;32m    284\u001b[0m                 \u001b[0mgamma\u001b[0m\u001b[0;34m=\u001b[0m\u001b[0mself\u001b[0m\u001b[0;34m.\u001b[0m\u001b[0m_gamma\u001b[0m\u001b[0;34m,\u001b[0m \u001b[0mepsilon\u001b[0m\u001b[0;34m=\u001b[0m\u001b[0mself\u001b[0m\u001b[0;34m.\u001b[0m\u001b[0mepsilon\u001b[0m\u001b[0;34m,\u001b[0m\u001b[0;34m\u001b[0m\u001b[0;34m\u001b[0m\u001b[0m\n\u001b[0;32m--> 285\u001b[0;31m                 max_iter=self.max_iter, random_seed=random_seed)\n\u001b[0m\u001b[1;32m    286\u001b[0m \u001b[0;34m\u001b[0m\u001b[0m\n\u001b[1;32m    287\u001b[0m         \u001b[0mself\u001b[0m\u001b[0;34m.\u001b[0m\u001b[0m_warn_from_fit_status\u001b[0m\u001b[0;34m(\u001b[0m\u001b[0;34m)\u001b[0m\u001b[0;34m\u001b[0m\u001b[0;34m\u001b[0m\u001b[0m\n",
      "\u001b[0;31mKeyboardInterrupt\u001b[0m: "
     ]
    }
   ],
   "source": [
    "from sklearn.svm import SVR\n",
    "svr = SVR()\n",
    "\n",
    "svr_params = { 'kernel': ['linear', 'poly', 'rbf', 'sigmoid'],\n",
    "              'gamma': ['scale', 'auto'],\n",
    "              'C': np.arange(0.1, 5,0.4)}\n",
    "\n",
    "svr_cv = RandomizedSearchCV(svr, svr_params, cv=5, scoring='neg_root_mean_squared_error', random_state=42)\n",
    "svr_cv.fit(X_train, y_train)\n",
    "svr_cv.best_params_"
   ]
  },
  {
   "cell_type": "code",
   "execution_count": null,
   "id": "31054aa2-eb3c-4b47-ac78-8e82770f0e72",
   "metadata": {},
   "outputs": [],
   "source": [
    "# create best_svr and fit it to training data\n",
    "best_svr = SVR(C= 0.1, gamma= 'scale', kernel= 'linear')\n",
    "best_svr.fit(X_train, y_train)"
   ]
  },
  {
   "cell_type": "code",
   "execution_count": null,
   "id": "5f9d3cb4-8ace-4889-8c61-ba104efe6600",
   "metadata": {},
   "outputs": [],
   "source": [
    "# model evaluation for training set\n",
    "train_r2_svr = round(best_svr.score(X_train, y_train),2)\n",
    "print('Training R2 score of SVM Regressor is {}'.format(train_r2_svr))\n",
    "y_train_predicted_svr = best_svr.predict(X_train)\n",
    "rmse_train_svr = (np.sqrt(mean_squared_error(y_train, y_train_predicted_svr)))\n",
    "print('RMSE on the training set for the SVM Regressor is: {}'.format(rmse_train_svr))"
   ]
  },
  {
   "cell_type": "code",
   "execution_count": null,
   "id": "14b5c41b-8408-452f-81de-adca10027259",
   "metadata": {},
   "outputs": [],
   "source": [
    "# model evaluation for test set\n",
    "y_test_predicted_svr = best_svr.predict(X_test)\n",
    "rmse_test_svr= (np.sqrt(mean_squared_error(y_test, y_test_predicted_svr)))\n",
    "print(\"RMSE on testing set is for the SVM Regressor is: {}\".format(rmse_test_svr))"
   ]
  },
  {
   "cell_type": "code",
   "execution_count": null,
   "id": "67f1a296-593a-4dee-becf-8fe8379e16a4",
   "metadata": {},
   "outputs": [],
   "source": [
    "svm_coefficients = pd.concat([pd.DataFrame(X.columns, columns={'variable'}),pd.DataFrame(np.transpose(best_svr.coef_), columns={'coefficient'})], axis = 1) \n",
    "svm_coefficients.sort_values(by='coefficient', ascending=False, inplace=True)\n",
    "svm_coefficients"
   ]
  },
  {
   "cell_type": "markdown",
   "id": "22cd78ce-e071-4238-9f8b-cab8d1a59b90",
   "metadata": {
    "jp-MarkdownHeadingCollapsed": true,
    "tags": []
   },
   "source": [
    "## Gradient Boosting"
   ]
  },
  {
   "cell_type": "code",
   "execution_count": 87,
   "id": "232f5ae7-3f31-4008-bac5-5dcf7cc09edb",
   "metadata": {},
   "outputs": [],
   "source": [
    "from sklearn.model_selection import RandomizedSearchCV"
   ]
  },
  {
   "cell_type": "code",
   "execution_count": 88,
   "id": "a7769b7e-42c3-4803-90b2-9f1db2ebd1e3",
   "metadata": {},
   "outputs": [
    {
     "name": "stdout",
     "output_type": "stream",
     "text": [
      "best params:  {'subsample': 0.6000000000000002, 'n_estimators': 700, 'max_features': 'sqrt', 'max_depth': 7, 'learning_rate': 0.1}\n"
     ]
    }
   ],
   "source": [
    "from sklearn.ensemble import GradientBoostingRegressor\n",
    "\n",
    "gb_regressor = GradientBoostingRegressor(random_state=42)\n",
    " \n",
    "gb_params = dict(learning_rate=np.arange(0.05,0.3,0.05), \n",
    "                     n_estimators=np.arange(100,1000,100), \n",
    "                     subsample = np.arange(0.1,0.9,0.05),\n",
    "                     max_depth=[int(i) for i in np.arange(1,10,1)],\n",
    "                     max_features = ['sqrt', 'log2']) \n",
    "\n",
    "gb_cv = RandomizedSearchCV(gb_regressor, gb_params, random_state=42, cv=5, scoring='neg_root_mean_squared_error')\n",
    "gb_optimized = gb_cv.fit(X_train, y_train)\n",
    "print('best params: ', gb_optimized.best_params_)"
   ]
  },
  {
   "cell_type": "code",
   "execution_count": 89,
   "id": "86f3f9b1-9c13-4d4d-9850-5c2114ac2823",
   "metadata": {},
   "outputs": [
    {
     "data": {
      "text/plain": [
       "GradientBoostingRegressor(max_depth=7, max_features='sqrt', n_estimators=700,\n",
       "                          subsample=0.6000000000000002)"
      ]
     },
     "execution_count": 89,
     "metadata": {},
     "output_type": "execute_result"
    }
   ],
   "source": [
    "np.random.seed(42)\n",
    "best_gbr = GradientBoostingRegressor(subsample= 0.6000000000000002, n_estimators= 700, max_features= 'sqrt', max_depth= 7, learning_rate= 0.1)\n",
    "best_gbr.fit(X_train, y_train)"
   ]
  },
  {
   "cell_type": "code",
   "execution_count": 91,
   "id": "02acfc1c-4a96-4615-a9f5-c93d9e12283c",
   "metadata": {},
   "outputs": [
    {
     "name": "stdout",
     "output_type": "stream",
     "text": [
      "Training R2 score of Gradient Boosting Regressor is 1.0\n",
      "RMSE on the training set for the Gradient Boosting Regressor is: 0.17488056347431297\n"
     ]
    }
   ],
   "source": [
    "from sklearn.metrics import mean_squared_error\n",
    "# model evaluation for training set\n",
    "train_r2_gbr = round(best_gbr.score(X_train, y_train),2)\n",
    "print('Training R2 score of Gradient Boosting Regressor is {}'.format(train_r2_gbr))\n",
    "y_train_predicted_gbr = best_gbr.predict(X_train)\n",
    "rmse_train_gbr = (np.sqrt(mean_squared_error(y_train, y_train_predicted_gbr)))\n",
    "print('RMSE on the training set for the Gradient Boosting Regressor is: {}'.format(rmse_train_gbr))"
   ]
  },
  {
   "cell_type": "code",
   "execution_count": 92,
   "id": "4cb18c6b-8a9a-415a-85a4-766084faf5c7",
   "metadata": {},
   "outputs": [
    {
     "name": "stdout",
     "output_type": "stream",
     "text": [
      "RMSE on testing set is for the Gradient Boosting Regressor is: 0.5380514142371875\n"
     ]
    }
   ],
   "source": [
    "# model evaluation for test set\n",
    "y_test_predicted_gbr = best_gbr.predict(X_test)\n",
    "rmse_test_gbr= (np.sqrt(mean_squared_error(y_test, y_test_predicted_gbr)))\n",
    "print(\"RMSE on testing set is for the Gradient Boosting Regressor is: {}\".format(rmse_test_gbr))"
   ]
  },
  {
   "cell_type": "code",
   "execution_count": 93,
   "id": "ea0a0d46-87e1-4de1-9755-e5d74fdf8f86",
   "metadata": {},
   "outputs": [
    {
     "data": {
      "text/html": [
       "<div>\n",
       "<style scoped>\n",
       "    .dataframe tbody tr th:only-of-type {\n",
       "        vertical-align: middle;\n",
       "    }\n",
       "\n",
       "    .dataframe tbody tr th {\n",
       "        vertical-align: top;\n",
       "    }\n",
       "\n",
       "    .dataframe thead th {\n",
       "        text-align: right;\n",
       "    }\n",
       "</style>\n",
       "<table border=\"1\" class=\"dataframe\">\n",
       "  <thead>\n",
       "    <tr style=\"text-align: right;\">\n",
       "      <th></th>\n",
       "      <th>variable</th>\n",
       "      <th>Importance</th>\n",
       "    </tr>\n",
       "  </thead>\n",
       "  <tbody>\n",
       "    <tr>\n",
       "      <th>1</th>\n",
       "      <td>cell</td>\n",
       "      <td>0.316024</td>\n",
       "    </tr>\n",
       "    <tr>\n",
       "      <th>6</th>\n",
       "      <td>P</td>\n",
       "      <td>0.191479</td>\n",
       "    </tr>\n",
       "    <tr>\n",
       "      <th>0</th>\n",
       "      <td>DOY</td>\n",
       "      <td>0.128621</td>\n",
       "    </tr>\n",
       "    <tr>\n",
       "      <th>2</th>\n",
       "      <td>Tair</td>\n",
       "      <td>0.069909</td>\n",
       "    </tr>\n",
       "    <tr>\n",
       "      <th>8</th>\n",
       "      <td>Q_in</td>\n",
       "      <td>0.054470</td>\n",
       "    </tr>\n",
       "    <tr>\n",
       "      <th>3</th>\n",
       "      <td>vp</td>\n",
       "      <td>0.052430</td>\n",
       "    </tr>\n",
       "    <tr>\n",
       "      <th>5</th>\n",
       "      <td>LW</td>\n",
       "      <td>0.051937</td>\n",
       "    </tr>\n",
       "    <tr>\n",
       "      <th>4</th>\n",
       "      <td>SW</td>\n",
       "      <td>0.049150</td>\n",
       "    </tr>\n",
       "    <tr>\n",
       "      <th>7</th>\n",
       "      <td>Wind</td>\n",
       "      <td>0.027460</td>\n",
       "    </tr>\n",
       "    <tr>\n",
       "      <th>10</th>\n",
       "      <td>width</td>\n",
       "      <td>0.023967</td>\n",
       "    </tr>\n",
       "    <tr>\n",
       "      <th>9</th>\n",
       "      <td>depth</td>\n",
       "      <td>0.023504</td>\n",
       "    </tr>\n",
       "    <tr>\n",
       "      <th>11</th>\n",
       "      <td>Velocity</td>\n",
       "      <td>0.011048</td>\n",
       "    </tr>\n",
       "  </tbody>\n",
       "</table>\n",
       "</div>"
      ],
      "text/plain": [
       "    variable  Importance\n",
       "1       cell    0.316024\n",
       "6          P    0.191479\n",
       "0        DOY    0.128621\n",
       "2       Tair    0.069909\n",
       "8       Q_in    0.054470\n",
       "3         vp    0.052430\n",
       "5         LW    0.051937\n",
       "4         SW    0.049150\n",
       "7       Wind    0.027460\n",
       "10     width    0.023967\n",
       "9      depth    0.023504\n",
       "11  Velocity    0.011048"
      ]
     },
     "execution_count": 93,
     "metadata": {},
     "output_type": "execute_result"
    }
   ],
   "source": [
    "gbr_importance = pd.concat([pd.DataFrame(X.columns, columns={'variable'}),pd.DataFrame(np.transpose(best_gbr.feature_importances_), columns={'Importance'})], axis = 1) \n",
    "gbr_importance.sort_values(by='Importance', ascending=False, inplace=True)\n",
    "gbr_importance"
   ]
  },
  {
   "cell_type": "markdown",
   "id": "dc2009f8-77a9-4507-bf60-2efd3520b535",
   "metadata": {
    "jp-MarkdownHeadingCollapsed": true,
    "tags": []
   },
   "source": [
    "## Ada Boost"
   ]
  },
  {
   "cell_type": "code",
   "execution_count": 20,
   "id": "56cc97a3-2a89-4d9b-a645-6546d7151f66",
   "metadata": {},
   "outputs": [
    {
     "name": "stdout",
     "output_type": "stream",
     "text": [
      "best params:  {'n_estimators': 130, 'loss': 'linear', 'learning_rate': 0.9600000000000001}\n"
     ]
    }
   ],
   "source": [
    "from sklearn.ensemble import AdaBoostRegressor\n",
    "\n",
    "adaboost = AdaBoostRegressor(random_state=42)\n",
    "\n",
    "# defiene a dictionary of Adaboost hyperparameters. Find best values using RandomizedSearchCV, and fit it to training data\n",
    "\n",
    "#A dictionary with parameters names as keys and distributions or lists of parameter as values \n",
    "adaboost_params = dict(learning_rate=np.arange(0.01,1.0,0.05), \n",
    "                 n_estimators=np.arange(10,200,10),\n",
    "                 loss = ['linear', 'square', 'exponential'])\n",
    "adaboost_cv = RandomizedSearchCV(adaboost, adaboost_params, random_state=42, cv=5, scoring='neg_root_mean_squared_error')\n",
    "adaboost_optimized = adaboost_cv.fit(X_train, y_train)\n",
    "print('best params: ', adaboost_optimized.best_params_)"
   ]
  },
  {
   "cell_type": "code",
   "execution_count": 21,
   "id": "ab53afd1-9d19-47e7-bd3b-e723445a26e8",
   "metadata": {},
   "outputs": [
    {
     "data": {
      "text/plain": [
       "AdaBoostRegressor(learning_rate=0.96, n_estimators=130, random_state=42)"
      ]
     },
     "execution_count": 21,
     "metadata": {},
     "output_type": "execute_result"
    }
   ],
   "source": [
    "# create best_adaboost using what you found above and fit it to training data\n",
    "best_adaboost = AdaBoostRegressor(n_estimators = 130, random_state=42, learning_rate=0.96, loss='linear')\n",
    "best_adaboost.fit(X_train, y_train)"
   ]
  },
  {
   "cell_type": "code",
   "execution_count": 22,
   "id": "7a373fab-7903-4dcc-a4c5-0646ff2b0b04",
   "metadata": {},
   "outputs": [
    {
     "name": "stdout",
     "output_type": "stream",
     "text": [
      "Training R2 score of Adaboost Regressor is 0.6\n",
      "RMSE on the training set for the Adaboost Regressor is: 1.6748330719890472\n"
     ]
    }
   ],
   "source": [
    "# model evaluation for training set\n",
    "train_r2_adaboost = round(best_adaboost.score(X_train, y_train),2)\n",
    "print('Training R2 score of Adaboost Regressor is {}'.format(train_r2_adaboost))\n",
    "y_train_predicted_adaboost = best_adaboost.predict(X_train)\n",
    "rmse_train_adaboost = (np.sqrt(mean_squared_error(y_train, y_train_predicted_adaboost)))\n",
    "print('RMSE on the training set for the Adaboost Regressor is: {}'.format(rmse_train_adaboost))"
   ]
  },
  {
   "cell_type": "code",
   "execution_count": 23,
   "id": "7ec5374a-1bcb-4462-b4fe-b8182ac9b2ba",
   "metadata": {},
   "outputs": [
    {
     "name": "stdout",
     "output_type": "stream",
     "text": [
      "RMSE on testing set is for the Adaboost Regressor is: 1.6935297662839623\n"
     ]
    }
   ],
   "source": [
    "# model evaluation for test set\n",
    "y_test_predicted_adaboost = best_adaboost.predict(X_test)\n",
    "rmse_test_adaboost= (np.sqrt(mean_squared_error(y_test, y_test_predicted_adaboost)))\n",
    "print(\"RMSE on testing set is for the Adaboost Regressor is: {}\".format(rmse_test_adaboost))"
   ]
  },
  {
   "cell_type": "code",
   "execution_count": null,
   "id": "9dc208c8-55d4-4499-9abe-d12a7294ea57",
   "metadata": {},
   "outputs": [],
   "source": []
  }
 ],
 "metadata": {
  "kernelspec": {
   "display_name": "py3",
   "language": "python",
   "name": "py3"
  },
  "language_info": {
   "codemirror_mode": {
    "name": "ipython",
    "version": 3
   },
   "file_extension": ".py",
   "mimetype": "text/x-python",
   "name": "python",
   "nbconvert_exporter": "python",
   "pygments_lexer": "ipython3",
   "version": "3.6.11"
  }
 },
 "nbformat": 4,
 "nbformat_minor": 5
}
